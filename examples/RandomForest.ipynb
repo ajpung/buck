{
 "cells": [
  {
   "cell_type": "code",
   "execution_count": 1,
   "id": "386b822b-f748-43f1-a89a-818894df4119",
   "metadata": {},
   "outputs": [
    {
     "name": "stdout",
     "output_type": "stream",
     "text": [
      "(144, 288, 288, 1) (36, 288, 288, 1) (45, 288, 288, 1)\n"
     ]
    }
   ],
   "source": [
    "import numpy as np\n",
    "import matplotlib.pyplot as plt\n",
    "import cv2\n",
    "from buck.analysis.basics import ingest_images\n",
    "\n",
    "# Your existing ingestion\n",
    "fpath = \"..\\\\images\\\\squared\\\\*_NDA.png\"\n",
    "images, ages = ingest_images(fpath)\n",
    "\n",
    "from buck.analysis.basics import split_data\n",
    "\n",
    "Xtr_og, ytr_og, Xval, yval, Xte, yte_onehot, ages, l_map = split_data(images, ages)"
   ]
  },
  {
   "cell_type": "code",
   "execution_count": 2,
   "id": "b4eec27e-965b-411c-8296-27762189ada3",
   "metadata": {},
   "outputs": [
    {
     "name": "stdout",
     "output_type": "stream",
     "text": [
      "  Class 0 (Age 1.5): 20 → 1360 samples\n",
      "  Class 1 (Age 2.5): 25 → 1360 samples\n",
      "  Class 2 (Age 3.5): 31 → 1360 samples\n",
      "  Class 3 (Age 4.5): 34 → 1360 samples\n",
      "  Class 4 (Age 5.5): 34 → 1360 samples\n"
     ]
    }
   ],
   "source": [
    "from buck.analysis.basics import homogenize_data\n",
    "\n",
    "augment_multiplier = 40\n",
    "X_train, y_train, X_test, y_true, label_mapping, num_classes = homogenize_data(Xtr_og, ytr_og, Xte,yte_onehot, l_map, augment_multiplier)"
   ]
  },
  {
   "cell_type": "code",
   "execution_count": 3,
   "id": "4502ac84-f86f-49be-8aec-250cb172d572",
   "metadata": {
    "scrolled": true
   },
   "outputs": [
    {
     "name": "stdout",
     "output_type": "stream",
     "text": [
      "Optimizing\n",
      "🧠 ROBUST CNN Optimization\n",
      "Focus: Reliability + Data Handling\n",
      "============================================================\n",
      "🔍 CNN Suitability Check:\n",
      "==================================================\n",
      "Original data shape: (6800, 5120)\n",
      "Samples: 6800, Classes: 5\n",
      "📊 Tabular data detected: 5120 features\n",
      "✅ Can reshape to rectangular images: 64x80\n",
      "\n",
      "🔄 Preparing data for CNN...\n",
      "✅ Reshaped tabular data: (6800, 5120) → (6800, 64, 80, 1)\n",
      "📊 Normalizing data to [0, 1] range...\n",
      "Final data shape: (6800, 64, 80, 1)\n",
      "Image size: 64x80x1, Classes: 5\n",
      "\n",
      "Running baseline CNN check...\n",
      "Baseline CNN: 0.2889 (trained in 41.7s)\n"
     ]
    },
    {
     "data": {
      "application/vnd.jupyter.widget-view+json": {
       "model_id": "ad1e10a1ab2748eda7b3d082fccb42cc",
       "version_major": 2,
       "version_minor": 0
      },
      "text/plain": [
       "Robust CNN Optimization:   0%|          | 0/2 [00:00<?, ?it/s]"
      ]
     },
     "metadata": {},
     "output_type": "display_data"
    },
    {
     "data": {
      "application/vnd.jupyter.widget-view+json": {
       "model_id": "d19a69e652b24fefb032e7f5af1794fc",
       "version_major": 2,
       "version_minor": 0
      },
      "text/plain": [
       "Optimizing Architecture & Optimizer:   0%|          | 0/6 [00:00<?, ?it/s]"
      ]
     },
     "metadata": {},
     "output_type": "display_data"
    },
    {
     "data": {
      "application/vnd.jupyter.widget-view+json": {
       "model_id": "6a8982333d6f44fd935b11257e74ca1f",
       "version_major": 2,
       "version_minor": 0
      },
      "text/plain": [
       "Optimizing Learning Rate:   0%|          | 0/4 [00:00<?, ?it/s]"
      ]
     },
     "metadata": {},
     "output_type": "display_data"
    },
    {
     "data": {
      "application/vnd.jupyter.widget-view+json": {
       "model_id": "666655f1774e49bfb483057857ac190d",
       "version_major": 2,
       "version_minor": 0
      },
      "text/plain": [
       "Optimizing Training Params:   0%|          | 0/3 [00:00<?, ?it/s]"
      ]
     },
     "metadata": {},
     "output_type": "display_data"
    },
    {
     "data": {
      "application/vnd.jupyter.widget-view+json": {
       "model_id": "e075208d3d094574bab5ed03a2b9b6d4",
       "version_major": 2,
       "version_minor": 0
      },
      "text/plain": [
       "Optimizing Architecture & Optimizer:   0%|          | 0/6 [00:00<?, ?it/s]"
      ]
     },
     "metadata": {},
     "output_type": "display_data"
    },
    {
     "data": {
      "application/vnd.jupyter.widget-view+json": {
       "model_id": "05e9a763f3f44d29b1f334f87b1c1ed7",
       "version_major": 2,
       "version_minor": 0
      },
      "text/plain": [
       "Optimizing Learning Rate:   0%|          | 0/4 [00:00<?, ?it/s]"
      ]
     },
     "metadata": {},
     "output_type": "display_data"
    },
    {
     "data": {
      "application/vnd.jupyter.widget-view+json": {
       "model_id": "d7ba42e1f1194686926c51c66ab0c8fc",
       "version_major": 2,
       "version_minor": 0
      },
      "text/plain": [
       "Optimizing Training Params:   0%|          | 0/3 [00:00<?, ?it/s]"
      ]
     },
     "metadata": {},
     "output_type": "display_data"
    },
    {
     "name": "stdout",
     "output_type": "stream",
     "text": [
      "\n",
      "🎯 Robust CNN optimization completed!\n",
      "Final accuracy: 0.3111\n",
      "Final F1: 0.2392\n",
      "{'Accuracy': 0.3111111111111111, 'f1-score': 0.23917211328976037, 'optimals': {'architecture': 'simple', 'optimizer': 'sgd', 'learning_rate': 0.001, 'epochs': 8, 'batch_size': 32}} \n",
      "\n",
      "🧠 SAFE Gaussian Process Optimization\n",
      "CRITICAL: GP scales O(n³) - only for small datasets!\n",
      "============================================================\n",
      "🔍 Gaussian Process Suitability Check:\n",
      "==================================================\n",
      "Dataset: 6800 samples, 5120 features, 5 classes\n",
      "Available RAM: 5.9 GB\n",
      "Estimated GP memory: 0.3 GB\n",
      "❌ CRITICAL: Dataset too large (6800 > 2000 samples)\n",
      "Gaussian Process WILL likely crash or take days to complete.\n",
      "STRONG RECOMMENDATION: Use different algorithms:\n",
      "  - XGBoost, RandomForest, or Neural Networks for large data\n",
      "  - Consider subsampling to < 500 samples if GP is required\n",
      "\n",
      "❌ STOPPING: Dataset unsuitable for Gaussian Process!\n",
      "Returning dummy results. Please use different algorithms.\n",
      "{'Accuracy': 0.0, 'f1-score': 0.0, 'optimals': {'kernel': RBF(length_scale=1), 'n_restarts_optimizer': 0}} \n",
      "\n",
      "Running baseline check with your top performers...\n",
      "Baseline XGBoost accuracy: 0.4889\n",
      "Baseline RandomForest accuracy: 0.4444\n",
      "Baseline ExtraTrees accuracy: 0.4000\n"
     ]
    },
    {
     "data": {
      "application/vnd.jupyter.widget-view+json": {
       "model_id": "d9b821ea68fc48cab169d8e3f3ddecfb",
       "version_major": 2,
       "version_minor": 0
      },
      "text/plain": [
       "TOP PERFORMER Voting Optimization:   0%|          | 0/2 [00:00<?, ?it/s]"
      ]
     },
     "metadata": {},
     "output_type": "display_data"
    },
    {
     "data": {
      "application/vnd.jupyter.widget-view+json": {
       "model_id": "5cf5e8983bd44508a1bdab12c0fde085",
       "version_major": 2,
       "version_minor": 0
      },
      "text/plain": [
       "Optimizing TOP PERFORMER Combinations:   0%|          | 0/9 [00:00<?, ?it/s]"
      ]
     },
     "metadata": {},
     "output_type": "display_data"
    },
    {
     "name": "stdout",
     "output_type": "stream",
     "text": [
      "Model evaluation failed: [09:44:53] C:\\actions-runner\\_work\\xgboost\\xgboost\\src\\common\\io.h:389: bad_malloc: Failed to allocate 1321029360 bytes.\n"
     ]
    },
    {
     "data": {
      "application/vnd.jupyter.widget-view+json": {
       "model_id": "b749f48447174530a4570ad95d7913b0",
       "version_major": 2,
       "version_minor": 0
      },
      "text/plain": [
       "Optimizing Voting Strategy:   0%|          | 0/3 [00:00<?, ?it/s]"
      ]
     },
     "metadata": {},
     "output_type": "display_data"
    },
    {
     "data": {
      "application/vnd.jupyter.widget-view+json": {
       "model_id": "30f91dacdb00423585f07abce0325e6f",
       "version_major": 2,
       "version_minor": 0
      },
      "text/plain": [
       "Optimizing Top Performer Params:   0%|          | 0/3 [00:00<?, ?it/s]"
      ]
     },
     "metadata": {},
     "output_type": "display_data"
    },
    {
     "data": {
      "application/vnd.jupyter.widget-view+json": {
       "model_id": "37da3b00d9bf4bb1a2c405ba71e26670",
       "version_major": 2,
       "version_minor": 0
      },
      "text/plain": [
       "Optimizing TOP PERFORMER Combinations:   0%|          | 0/9 [00:00<?, ?it/s]"
      ]
     },
     "metadata": {},
     "output_type": "display_data"
    },
    {
     "data": {
      "application/vnd.jupyter.widget-view+json": {
       "model_id": "9e79a5101f664b66abe31cb0ad7aa840",
       "version_major": 2,
       "version_minor": 0
      },
      "text/plain": [
       "Optimizing Voting Strategy:   0%|          | 0/3 [00:00<?, ?it/s]"
      ]
     },
     "metadata": {},
     "output_type": "display_data"
    },
    {
     "data": {
      "application/vnd.jupyter.widget-view+json": {
       "model_id": "f6298266436946a3a6ba22d5f86ed33f",
       "version_major": 2,
       "version_minor": 0
      },
      "text/plain": [
       "Optimizing Top Performer Params:   0%|          | 0/3 [00:00<?, ?it/s]"
      ]
     },
     "metadata": {},
     "output_type": "display_data"
    },
    {
     "name": "stdout",
     "output_type": "stream",
     "text": [
      "{'Accuracy': 0.4888888888888889, 'f1-score': 0.47835741065875226, 'optimals': {'voting': {'voting': 'soft', 'n_jobs': -1, 'flatten_transform': False, 'verbose': 0}, 'estimators': [('rf', RandomForestClassifier(max_depth=12, n_estimators=150, n_jobs=-1,\n",
      "                       random_state=42)), ('et', ExtraTreesClassifier(max_depth=12, n_estimators=150, n_jobs=-1, random_state=42))]}} \n",
      "\n"
     ]
    }
   ],
   "source": [
    "from buck.classifiers.autotune import optimize_all\n",
    "\n",
    "optimize_all(X_train, y_train, X_test, y_true, cycles=2)"
   ]
  },
  {
   "cell_type": "code",
   "execution_count": null,
   "id": "1f6938f9-57bf-4703-be29-d97108c9caf9",
   "metadata": {},
   "outputs": [],
   "source": []
  },
  {
   "cell_type": "code",
   "execution_count": null,
   "id": "a8923aaa-3d0e-4603-9080-ea891f75441c",
   "metadata": {},
   "outputs": [],
   "source": []
  }
 ],
 "metadata": {
  "kernelspec": {
   "display_name": "BUCK Environment",
   "language": "python",
   "name": "buck-env"
  },
  "language_info": {
   "codemirror_mode": {
    "name": "ipython",
    "version": 3
   },
   "file_extension": ".py",
   "mimetype": "text/x-python",
   "name": "python",
   "nbconvert_exporter": "python",
   "pygments_lexer": "ipython3",
   "version": "3.11.9"
  }
 },
 "nbformat": 4,
 "nbformat_minor": 5
}

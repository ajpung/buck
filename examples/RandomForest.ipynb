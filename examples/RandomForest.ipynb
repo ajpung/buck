{
 "cells": [
  {
   "cell_type": "code",
   "execution_count": 1,
   "id": "386b822b-f748-43f1-a89a-818894df4119",
   "metadata": {},
   "outputs": [
    {
     "name": "stdout",
     "output_type": "stream",
     "text": [
      "(143, 288, 288, 1) (36, 288, 288, 1) (45, 288, 288, 1)\n"
     ]
    }
   ],
   "source": [
    "import numpy as np\n",
    "import matplotlib.pyplot as plt\n",
    "import cv2\n",
    "from buck.analysis.basics import ingest_images\n",
    "\n",
    "# Your existing ingestion\n",
    "fpath = \"..\\\\images\\\\squared\\\\*_NDA.png\"\n",
    "images, ages = ingest_images(fpath)\n",
    "\n",
    "from buck.analysis.basics import split_data\n",
    "\n",
    "Xtr_og, ytr_og, Xval, yval, Xte, yte_onehot, ages, l_map = split_data(images, ages)"
   ]
  },
  {
   "cell_type": "code",
   "execution_count": 2,
   "id": "b4eec27e-965b-411c-8296-27762189ada3",
   "metadata": {},
   "outputs": [
    {
     "name": "stdout",
     "output_type": "stream",
     "text": [
      "  Class 0 (Age 1.5): 20 → 1360 samples\n",
      "  Class 1 (Age 2.5): 25 → 1360 samples\n",
      "  Class 2 (Age 3.5): 30 → 1360 samples\n",
      "  Class 3 (Age 4.5): 34 → 1360 samples\n",
      "  Class 4 (Age 5.5): 34 → 1360 samples\n"
     ]
    }
   ],
   "source": [
    "from buck.analysis.basics import homogenize_data\n",
    "\n",
    "augment_multiplier = 40\n",
    "X_train_flat, y_train_flat, X_test_flat, y_true, label_mapping, num_classes = homogenize_data(Xtr_og, ytr_og, Xte,yte_onehot, l_map, augment_multiplier)"
   ]
  },
  {
   "cell_type": "code",
   "execution_count": 6,
   "id": "4502ac84-f86f-49be-8aec-250cb172d572",
   "metadata": {},
   "outputs": [
    {
     "name": "stdout",
     "output_type": "stream",
     "text": [
      "Optimizing\n",
      "CatBoost is not available. Please install it with: pip install catboost\n",
      "{'Accuracy': 0.0, 'f1-score': 0.0, 'optimals': {}} \n",
      "\n"
     ]
    },
    {
     "data": {
      "text/plain": [
       "{'Cat Boost': {'Accuracy': 0.0, 'f1-score': 0.0, 'optimals': {}}}"
      ]
     },
     "execution_count": 6,
     "metadata": {},
     "output_type": "execute_result"
    }
   ],
   "source": [
    "from buck.classifiers.autotune import optimize_all\n",
    "\n",
    "optimize_all(X_train_flat, y_train_flat, X_test_flat, y_true, cycles=1)"
   ]
  },
  {
   "cell_type": "code",
   "execution_count": null,
   "id": "48858061-613d-4798-84fd-074cee953c42",
   "metadata": {
    "jupyter": {
     "source_hidden": true
    }
   },
   "outputs": [],
   "source": [
    "# Random Forest\n",
    "from buck.classifiers.random_forest import (\n",
    "    _optimize_rs, _optimize_nest, _optimize_max_d, _optimize_crit, _optimize_cw, _optimize_mss, _optimize_msl, _optimize_mwfl, _optimize_mf, _optimize_mln, _optimize_mid\n",
    ")\n",
    "\n",
    "# Shorten parameters\n",
    "Xtr_pca = X_train_flat\n",
    "ytr_flat = y_train_flat\n",
    "Xte_pca = X_test_flat\n",
    "\n",
    "opts = {\n",
    "    \"n_estimators\": 100,\n",
    "    \"criterion\": \"gini\",\n",
    "    \"max_depth\": None,\n",
    "    \"min_samples_split\": 2,\n",
    "    \"min_samples_leaf\": 1,\n",
    "    \"min_weight_fraction_leaf\": 0.0,\n",
    "    \"max_features\": \"sqrt\",\n",
    "    \"max_leaf_nodes\": None,\n",
    "    \"min_impurity_decrease\": 0.0,\n",
    "    \"bootstrap\": True,\n",
    "    \"oob_score\": False,\n",
    "    \"n_jobs\": -1,\n",
    "    \"random_state\": 42,\n",
    "    \"verbose\": 0,\n",
    "    \"warm_start\": False,\n",
    "    \"class_weight\": None,\n",
    "    \"ccp_alpha\": 0.0,\n",
    "    \"max_samples\": None,\n",
    "    \"monotonic_cst\": None,\n",
    "}\n",
    "\n",
    "# Optimize hyperparameters\n",
    "ma_vec = []\n",
    "f1_vec = []\n",
    "opts, ma, f1 = _optimize_rs(Xtr_pca, ytr_flat, Xte_pca, y_true, opts)\n",
    "print(ma)\n",
    "opts, ma, f1 = _optimize_nest(Xtr_pca, ytr_flat, Xte_pca, y_true, opts)\n",
    "print(ma)\n",
    "opts, ma, f1 = _optimize_max_d(Xtr_pca, ytr_flat, Xte_pca, y_true, opts)\n",
    "print(ma)\n",
    "opts, ma, f1 = _optimize_crit(Xtr_pca, ytr_flat, Xte_pca, y_true, opts)  # type: ignore\n",
    "print(ma)\n",
    "opts, ma, f1 = _optimize_cw(Xtr_pca, ytr_flat, Xte_pca, y_true, opts)\n",
    "print(ma)\n",
    "opts, ma, f1 = _optimize_mss(Xtr_pca, ytr_flat, Xte_pca, y_true, opts)\n",
    "print(ma)\n",
    "opts, ma, f1 = _optimize_msl(Xtr_pca, ytr_flat, Xte_pca, y_true, opts)\n",
    "print(ma)\n",
    "opts, ma, f1 = _optimize_mwfl(Xtr_pca, ytr_flat, Xte_pca, y_true, opts)\n",
    "print(ma)\n",
    "opts, ma, f1 = _optimize_mf(Xtr_pca, ytr_flat, Xte_pca, y_true, opts)\n",
    "print(ma)\n",
    "opts, ma, f1 = _optimize_mln(Xtr_pca, ytr_flat, Xte_pca, y_true, opts)\n",
    "print(ma)\n",
    "opts, ma, f1 = _optimize_mid(Xtr_pca, ytr_flat, Xte_pca, y_true, opts)\n",
    "print(ma)\n",
    "ma_vec.append(ma)\n",
    "f1_vec.append(f1)\n",
    "print(ma, f1)"
   ]
  },
  {
   "cell_type": "code",
   "execution_count": 5,
   "id": "500be004-77d7-4f31-b7c9-0042af018fe3",
   "metadata": {},
   "outputs": [
    {
     "name": "stdout",
     "output_type": "stream",
     "text": [
      "Collecting catboost\n",
      "  Using cached catboost-1.2.8-cp311-cp311-win_amd64.whl.metadata (1.5 kB)\n",
      "Requirement already satisfied: graphviz in g:\\dropbox\\ai projects\\buck\\buck-env\\lib\\site-packages (from catboost) (0.20.3)\n",
      "Requirement already satisfied: matplotlib in g:\\dropbox\\ai projects\\buck\\buck-env\\lib\\site-packages (from catboost) (3.10.3)\n",
      "Requirement already satisfied: numpy<3.0,>=1.16.0 in g:\\dropbox\\ai projects\\buck\\buck-env\\lib\\site-packages (from catboost) (2.1.3)\n",
      "Requirement already satisfied: pandas>=0.24 in g:\\dropbox\\ai projects\\buck\\buck-env\\lib\\site-packages (from catboost) (2.2.3)\n",
      "Requirement already satisfied: scipy in g:\\dropbox\\ai projects\\buck\\buck-env\\lib\\site-packages (from catboost) (1.15.3)\n",
      "Requirement already satisfied: plotly in g:\\dropbox\\ai projects\\buck\\buck-env\\lib\\site-packages (from catboost) (6.1.1)\n",
      "Requirement already satisfied: six in g:\\dropbox\\ai projects\\buck\\buck-env\\lib\\site-packages (from catboost) (1.17.0)\n",
      "Requirement already satisfied: python-dateutil>=2.8.2 in g:\\dropbox\\ai projects\\buck\\buck-env\\lib\\site-packages (from pandas>=0.24->catboost) (2.9.0.post0)\n",
      "Requirement already satisfied: pytz>=2020.1 in g:\\dropbox\\ai projects\\buck\\buck-env\\lib\\site-packages (from pandas>=0.24->catboost) (2025.2)\n",
      "Requirement already satisfied: tzdata>=2022.7 in g:\\dropbox\\ai projects\\buck\\buck-env\\lib\\site-packages (from pandas>=0.24->catboost) (2025.2)\n",
      "Requirement already satisfied: contourpy>=1.0.1 in g:\\dropbox\\ai projects\\buck\\buck-env\\lib\\site-packages (from matplotlib->catboost) (1.3.2)\n",
      "Requirement already satisfied: cycler>=0.10 in g:\\dropbox\\ai projects\\buck\\buck-env\\lib\\site-packages (from matplotlib->catboost) (0.12.1)\n",
      "Requirement already satisfied: fonttools>=4.22.0 in g:\\dropbox\\ai projects\\buck\\buck-env\\lib\\site-packages (from matplotlib->catboost) (4.58.0)\n",
      "Requirement already satisfied: kiwisolver>=1.3.1 in g:\\dropbox\\ai projects\\buck\\buck-env\\lib\\site-packages (from matplotlib->catboost) (1.4.8)\n",
      "Requirement already satisfied: packaging>=20.0 in g:\\dropbox\\ai projects\\buck\\buck-env\\lib\\site-packages (from matplotlib->catboost) (25.0)\n",
      "Requirement already satisfied: pillow>=8 in g:\\dropbox\\ai projects\\buck\\buck-env\\lib\\site-packages (from matplotlib->catboost) (11.2.1)\n",
      "Requirement already satisfied: pyparsing>=2.3.1 in g:\\dropbox\\ai projects\\buck\\buck-env\\lib\\site-packages (from matplotlib->catboost) (3.2.3)\n",
      "Requirement already satisfied: narwhals>=1.15.1 in g:\\dropbox\\ai projects\\buck\\buck-env\\lib\\site-packages (from plotly->catboost) (1.41.0)\n",
      "Using cached catboost-1.2.8-cp311-cp311-win_amd64.whl (102.5 MB)\n",
      "Installing collected packages: catboost\n",
      "Successfully installed catboost-1.2.8\n"
     ]
    }
   ],
   "source": [
    "!pip install catboost"
   ]
  },
  {
   "cell_type": "code",
   "execution_count": null,
   "id": "ee1cb9a7-1413-4815-87f7-68b6dc55ead9",
   "metadata": {},
   "outputs": [],
   "source": []
  }
 ],
 "metadata": {
  "kernelspec": {
   "display_name": "BUCK Environment",
   "language": "python",
   "name": "buck-env"
  },
  "language_info": {
   "codemirror_mode": {
    "name": "ipython",
    "version": 3
   },
   "file_extension": ".py",
   "mimetype": "text/x-python",
   "name": "python",
   "nbconvert_exporter": "python",
   "pygments_lexer": "ipython3",
   "version": "3.11.9"
  }
 },
 "nbformat": 4,
 "nbformat_minor": 5
}

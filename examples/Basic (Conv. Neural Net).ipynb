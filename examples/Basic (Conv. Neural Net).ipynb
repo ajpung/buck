{
 "cells": [
  {
   "cell_type": "markdown",
   "id": "e9bd270a-95d8-4330-92ef-478f908a8604",
   "metadata": {},
   "source": [
    "## Ingest images"
   ]
  },
  {
   "cell_type": "code",
   "execution_count": null,
   "id": "86a96314-0633-40b4-b727-9ceef74d57af",
   "metadata": {},
   "outputs": [],
   "source": [
    "from buck.analysis.basics import ingest_images\n",
    "\n",
    "fpath = \"..\\\\images\\\\squared\\\\*.png\"\n",
    "images,ages = ingest_images(fpath)"
   ]
  },
  {
   "cell_type": "markdown",
   "id": "7ecdea1f-2cb5-4ede-bce3-b6a2b349a836",
   "metadata": {},
   "source": [
    "## Split datasets"
   ]
  },
  {
   "cell_type": "code",
   "execution_count": null,
   "id": "572f3c3c-89db-4ef1-90f8-8a56e6890e15",
   "metadata": {},
   "outputs": [],
   "source": [
    "from buck.analysis.basics import split_data\n",
    "\n",
    "Xtr_og, ytr_og, Xval, yval, Xte, yte_onehot, ages, l_map = split_data(images, ages)"
   ]
  },
  {
   "cell_type": "markdown",
   "id": "4415e8a2-4981-46df-9980-e2f0c35bd3a3",
   "metadata": {},
   "source": [
    "## Homogenize data across classes"
   ]
  },
  {
   "cell_type": "code",
   "execution_count": null,
   "id": "57820b7d-7f52-4ca1-9b6c-43b1db82d55d",
   "metadata": {},
   "outputs": [],
   "source": [
    "from buck.analysis.basics import homogenize_data\n",
    "\n",
    "augment_multiplier = 10\n",
    "X_train_pca, y_train_flat, X_test_pca, y_true, label_mapping, num_classes = homogenize_data(Xtr_og, ytr_og, Xte,yte_onehot, l_map, augment_multiplier)"
   ]
  },
  {
   "cell_type": "markdown",
   "id": "a50c2ba6-9153-4ea4-a8f6-55201f91bb7b",
   "metadata": {},
   "source": [
    "## Build Conv. Neural Network"
   ]
  },
  {
   "cell_type": "code",
   "execution_count": null,
   "id": "54486b36-c48f-4b93-9069-1faf2c1f0374",
   "metadata": {},
   "outputs": [],
   "source": [
    "from keras.models import Sequential\n",
    "from keras.layers import Conv2D, MaxPooling2D, Flatten, Dense, Dropout, GlobalAveragePooling2D\n",
    "from keras.regularizers import l2\n",
    "from keras.optimizers import Adam\n",
    "\n",
    "# Create a simpler model that's less likely to overfit\n",
    "model = Sequential()\n",
    "\n",
    "# First convolutional block - keep it simple\n",
    "model.add(Conv2D(8, kernel_size=3, padding='same', activation='relu', input_shape=(288, 288, 1)))\n",
    "model.add(MaxPooling2D(pool_size=2))\n",
    "\n",
    "# Second convolutional block\n",
    "model.add(Conv2D(16, kernel_size=3, padding='same', activation='relu'))\n",
    "model.add(MaxPooling2D(pool_size=2))\n",
    "\n",
    "# Third convolutional block\n",
    "model.add(Conv2D(32, kernel_size=3, padding='same', activation='relu'))\n",
    "model.add(MaxPooling2D(pool_size=2))\n",
    "\n",
    "# Global pooling to reduce parameters\n",
    "model.add(GlobalAveragePooling2D())\n",
    "\n",
    "# Classification head - minimal dense layers\n",
    "model.add(Dense(32, activation='relu'))\n",
    "model.add(Dropout(0.3))  # Moderate dropout\n",
    "model.add(Dense(num_classes, activation='softmax'))\n",
    "\n",
    "model.summary()\n",
    "\n",
    "# Use a much lower learning rate - crucial for small datasets\n",
    "model.compile(\n",
    "    loss='categorical_crossentropy', \n",
    "    optimizer=Adam(learning_rate=0.00005),  # Very low learning rate\n",
    "    metrics=['accuracy']\n",
    ")"
   ]
  },
  {
   "cell_type": "code",
   "execution_count": null,
   "id": "ebeb3582-5c5e-48cb-a0f5-55ee7d220b76",
   "metadata": {},
   "outputs": [],
   "source": [
    "from keras.callbacks import ModelCheckpoint, EarlyStopping, ReduceLROnPlateau\n",
    "from sklearn.utils.class_weight import compute_class_weight\n",
    "\n",
    "# Calculate class weights properly based on the raw class distribution\n",
    "# Extract the class labels from one-hot encoded y_train_orig\n",
    "y_integers = np.argmax(y_train_flat, axis=1)\n",
    "\n",
    "# Compute balanced class weights\n",
    "class_weights = compute_class_weight(\n",
    "    class_weight='balanced',\n",
    "    classes=np.unique(y_integers),\n",
    "    y=y_integers\n",
    ")\n",
    "\n",
    "# Convert to dictionary format for Keras\n",
    "class_weight_dict = {i: weight for i, weight in enumerate(class_weights)}\n",
    "\n",
    "print(\"Class weights:\", class_weight_dict)\n",
    "\n",
    "# Set up improved callbacks\n",
    "checkpointer = ModelCheckpoint(\n",
    "    filepath='model_improved.weights.best.hdf5.keras',\n",
    "    verbose=1, \n",
    "    save_best_only=True,\n",
    "    monitor='val_accuracy'  # Changed to monitor accuracy instead of loss\n",
    ")\n",
    "\n",
    "early_stopping = EarlyStopping(\n",
    "    monitor='val_accuracy',\n",
    "    patience=20,  # Give it more time to learn\n",
    "    restore_best_weights=True,\n",
    "    verbose=1\n",
    ")\n",
    "\n",
    "reduce_lr = ReduceLROnPlateau(\n",
    "    monitor='val_loss',\n",
    "    factor=0.5,\n",
    "    patience=5,\n",
    "    min_lr=1e-6,\n",
    "    verbose=1\n",
    ")\n",
    "\n",
    "print(\"\\nTraining with improved configuration:\")\n",
    "hist_improved = model.fit(\n",
    "    X_train_pca, \n",
    "    y_train_flat,\n",
    "    batch_size=8,  # Smaller batch size for better learning with small dataset\n",
    "    epochs=100,\n",
    "    validation_data=(Xval, yval),\n",
    "    callbacks=[checkpointer, early_stopping, reduce_lr],\n",
    "    verbose=1,\n",
    "    shuffle=True,\n",
    "    class_weight=class_weight_dict\n",
    ")"
   ]
  },
  {
   "cell_type": "code",
   "execution_count": null,
   "id": "6d598d7d-0ae0-43f8-ae09-1b74ce15915b",
   "metadata": {},
   "outputs": [],
   "source": []
  },
  {
   "cell_type": "code",
   "execution_count": null,
   "id": "351b212f-3d6f-40b5-bce5-7c181b548dcd",
   "metadata": {},
   "outputs": [],
   "source": []
  }
 ],
 "metadata": {
  "kernelspec": {
   "display_name": "BUCK Environment",
   "language": "python",
   "name": "buck-env"
  },
  "language_info": {
   "codemirror_mode": {
    "name": "ipython",
    "version": 3
   },
   "file_extension": ".py",
   "mimetype": "text/x-python",
   "name": "python",
   "nbconvert_exporter": "python",
   "pygments_lexer": "ipython3",
   "version": "3.12.10"
  }
 },
 "nbformat": 4,
 "nbformat_minor": 5
}

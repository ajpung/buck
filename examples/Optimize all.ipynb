{
 "cells": [
  {
   "cell_type": "code",
   "execution_count": null,
   "id": "dbdeb774-d02d-4c6d-a3f0-ea2a09287cd7",
   "metadata": {},
   "outputs": [],
   "source": []
  }
 ],
 "metadata": {
  "kernelspec": {
   "display_name": "",
   "name": ""
  },
  "language_info": {
   "name": ""
  }
 },
 "nbformat": 4,
 "nbformat_minor": 5
}

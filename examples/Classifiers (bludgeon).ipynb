{
 "cells": [
  {
   "cell_type": "markdown",
   "id": "e9bd270a-95d8-4330-92ef-478f908a8604",
   "metadata": {},
   "source": [
    "## Ingest images"
   ]
  },
  {
   "cell_type": "code",
   "execution_count": null,
   "id": "86a96314-0633-40b4-b727-9ceef74d57af",
   "metadata": {},
   "outputs": [],
   "source": [
    "import numpy as np\n",
    "import matplotlib.pyplot as plt\n",
    "from buck.analysis.basics import ingest_images\n",
    "\n",
    "fpath = \"..\\\\images\\\\squared\\\\*_NDA.png\"\n",
    "images,ages = ingest_images(fpath)\n",
    "print(images.shape)"
   ]
  },
  {
   "cell_type": "markdown",
   "id": "7ecdea1f-2cb5-4ede-bce3-b6a2b349a836",
   "metadata": {},
   "source": [
    "## Split datasets"
   ]
  },
  {
   "cell_type": "code",
   "execution_count": null,
   "id": "572f3c3c-89db-4ef1-90f8-8a56e6890e15",
   "metadata": {},
   "outputs": [],
   "source": [
    "from buck.analysis.basics import split_data\n",
    "\n",
    "Xtr_og, ytr_og, Xval, yval, Xte, yte_onehot, ages, l_map = split_data(images, ages)"
   ]
  },
  {
   "cell_type": "markdown",
   "id": "4415e8a2-4981-46df-9980-e2f0c35bd3a3",
   "metadata": {},
   "source": [
    "## Homogenize data across classes"
   ]
  },
  {
   "cell_type": "code",
   "execution_count": null,
   "id": "57820b7d-7f52-4ca1-9b6c-43b1db82d55d",
   "metadata": {},
   "outputs": [],
   "source": [
    "from buck.analysis.basics import homogenize_data\n",
    "\n",
    "augment_multiplier = 65\n",
    "X_train_pca, y_train_flat, X_test_pca, y_true, label_mapping, num_classes = homogenize_data(Xtr_og, ytr_og, Xte,yte_onehot, l_map, augment_multiplier)"
   ]
  },
  {
   "cell_type": "markdown",
   "id": "a50c2ba6-9153-4ea4-a8f6-55201f91bb7b",
   "metadata": {},
   "source": [
    "## Optimize all classifier models"
   ]
  },
  {
   "cell_type": "code",
   "execution_count": null,
   "id": "c6b6d11d-5762-40c8-947d-f66c4a4045f3",
   "metadata": {
    "jupyter": {
     "source_hidden": true
    }
   },
   "outputs": [],
   "source": [
    "# AdaBoost\n",
    "'''\n",
    "from buck.classifiers.ada_boost import (_optimize_rs, _optimize_nest, _optimize_lr)\n",
    "\n",
    "# Shorten parameters\n",
    "Xtr_pca = X_train_pca\n",
    "ytr_flat = y_train_flat\n",
    "Xte_pca = X_test_pca\n",
    "\n",
    "# Define optimals\n",
    "opts = {\n",
    "    \"random_state\": None,\n",
    "    \"estimator\": None,\n",
    "    \"n_estimators\": 50,\n",
    "    \"learning_rate\": 1.0,\n",
    "}\n",
    "\n",
    "# Adaboost\n",
    "opts, ma, ab_rs = _optimize_rs(Xtr_pca, ytr_flat, Xte_pca, y_true, opts)\n",
    "opts, ma, ab_ne = _optimize_nest(Xtr_pca, ytr_flat, Xte_pca, y_true, opts)\n",
    "opts, ma, ab_lr = _optimize_lr(Xtr_pca, ytr_flat, Xte_pca, y_true, opts)\n",
    "print(ma)\n",
    "'''"
   ]
  },
  {
   "cell_type": "code",
   "execution_count": null,
   "id": "45d8aedc-fd21-4ced-b966-16b7008eedda",
   "metadata": {
    "jupyter": {
     "source_hidden": true
    }
   },
   "outputs": [],
   "source": [
    "# Random Forest\n",
    "\n",
    "'''\n",
    "from buck.classifiers.random_forest import (\n",
    "    _optimize_rs, _optimize_nest, _optimize_max_d, _optimize_crit, _optimize_cw, _optimize_mss, _optimize_msl, _optimize_mwfl, _optimize_mf, _optimize_mln, _optimize_mid\n",
    ")\n",
    "\n",
    "# Shorten parameters\n",
    "Xtr_pca = X_train_pca\n",
    "ytr_flat = y_train_flat\n",
    "Xte_pca = X_test_pca\n",
    "\n",
    "opts = {\n",
    "    \"n_estimators\": 100,\n",
    "    \"criterion\": \"gini\",\n",
    "    \"max_depth\": None,\n",
    "    \"min_samples_split\": 2,\n",
    "    \"min_samples_leaf\": 1,\n",
    "    \"min_weight_fraction_leaf\": 0.0,\n",
    "    \"max_features\": \"sqrt\",\n",
    "    \"max_leaf_nodes\": None,\n",
    "    \"min_impurity_decrease\": 0.0,\n",
    "    \"bootstrap\": True,\n",
    "    \"oob_score\": False,\n",
    "    \"n_jobs\": -1,\n",
    "    \"random_state\": 42,\n",
    "    \"verbose\": 0,\n",
    "    \"warm_start\": False,\n",
    "    \"class_weight\": None,\n",
    "    \"ccp_alpha\": 0.0,\n",
    "    \"max_samples\": None,\n",
    "    \"monotonic_cst\": None,\n",
    "}\n",
    "\n",
    "print('_____RANDOM FOREST_____')\n",
    "opts, ma, rf_rs = _optimize_rs(Xtr_pca, ytr_flat, Xte_pca, y_true, opts)\n",
    "opts, ma, rf_ne = _optimize_nest(Xtr_pca, ytr_flat, Xte_pca, y_true, opts)\n",
    "opts, ma, rf_md = _optimize_max_d(Xtr_pca, ytr_flat, Xte_pca, y_true, opts)\n",
    "opts, ma, rf_cr = _optimize_crit(Xtr_pca, ytr_flat, Xte_pca, y_true, opts)  # type: ignore\n",
    "opts, ma, rf_cw = _optimize_cw(Xtr_pca, ytr_flat, Xte_pca, y_true, opts)\n",
    "opts, ma, rf_mss = _optimize_mss(Xtr_pca, ytr_flat, Xte_pca, y_true, opts)\n",
    "opts, ma, rf_msl = _optimize_msl(Xtr_pca, ytr_flat, Xte_pca, y_true, opts)\n",
    "opts, ma, rf_mwfl = _optimize_mwfl(Xtr_pca, ytr_flat, Xte_pca, y_true, opts)\n",
    "opts, ma, rf_mf = _optimize_mf(Xtr_pca, ytr_flat, Xte_pca, y_true, opts)\n",
    "opts, ma, rf_mln = _optimize_mln(Xtr_pca, ytr_flat, Xte_pca, y_true, opts)\n",
    "opts, ma, rf_mid = _optimize_mid(Xtr_pca, ytr_flat, Xte_pca, y_true, opts)\n",
    "print(ma)\n",
    "\n",
    "#Best: 0.7894736842105263\n",
    "#{'n_estimators': np.int64(127),\n",
    "# 'criterion': 'gini',\n",
    "# 'max_depth': None,\n",
    "# 'min_samples_split': np.int64(2),\n",
    "# 'min_samples_leaf': np.int64(1),\n",
    "# 'min_weight_fraction_leaf': np.float64(0.0),\n",
    "# 'max_features': 'log2',\n",
    "# 'max_leaf_nodes': None,\n",
    "# 'min_impurity_decrease': np.float64(0.0),\n",
    "# 'bootstrap': True,\n",
    "# 'oob_score': False,\n",
    "# 'n_jobs': -1,\n",
    "# 'random_state': np.int64(405),\n",
    "# 'verbose': 0,\n",
    "# 'warm_start': False,\n",
    "# 'class_weight': None,\n",
    "# 'ccp_alpha': 0.0,\n",
    "# 'max_samples': None,\n",
    "# 'monotonic_cst': None}\n",
    "'''"
   ]
  },
  {
   "cell_type": "code",
   "execution_count": null,
   "id": "99ababe7-a723-4cbd-92b3-597b6c4cde41",
   "metadata": {
    "jupyter": {
     "source_hidden": true
    }
   },
   "outputs": [],
   "source": [
    "# Neural Net\n",
    "'''\n",
    "import numpy as np\n",
    "from sklearn.neural_network import MLPClassifier\n",
    "from sklearn.metrics import accuracy_score, f1_score\n",
    "\n",
    "# Shorten parameters\n",
    "Xtr_pca = X_train_pca\n",
    "ytr_flat = y_train_flat\n",
    "Xte_pca = X_test_pca\n",
    "\n",
    "# Define optimals\n",
    "opts = {\n",
    "    \"hidden_layer_sizes\": (100,),\n",
    "    \"activation\": \"relu\",\n",
    "    \"solver\": \"adam\",\n",
    "    \"alpha\": 0.0001,\n",
    "    \"batch_size\": \"auto\",\n",
    "    \"learning_rate\": \"constant\",\n",
    "    \"learning_rate_init\": 0.001,\n",
    "    \"power_t\": 0.5,\n",
    "    \"max_iter\": 20000,\n",
    "    \"shuffle\": True,\n",
    "    \"random_state\": None,\n",
    "    \"tol\": 0.01,\n",
    "    \"verbose\": False,\n",
    "    \"warm_start\": False,\n",
    "    \"momentum\": 0.9,\n",
    "    \"nesterovs_momentum\": True,\n",
    "    \"early_stopping\": False,\n",
    "    \"validation_fraction\": 0.1,\n",
    "    \"beta_1\": 0.9,\n",
    "    \"beta_2\": 0.999,\n",
    "    \"epsilon\": 1e-08,\n",
    "    \"n_iter_no_change\": 10,\n",
    "    \"max_fun\": 15000,\n",
    "}\n",
    "\n",
    "# Initialize variables\n",
    "ac_vec = []\n",
    "f1_vec = []\n",
    "max_acc = -np.inf\n",
    "max_idx = -1\n",
    "variable_array = np.arange(150)\n",
    "#best_val = variable_array[0]\n",
    "for i in np.arange(len(variable_array)):\n",
    "    v = variable_array[i]\n",
    "    # Define classifiers to test\n",
    "    classifier = MLPClassifier(\n",
    "        random_state=v,\n",
    "        hidden_layer_sizes=opts[\"hidden_layer_sizes\"],\n",
    "        activation=opts[\"activation\"],\n",
    "        solver=opts[\"solver\"],\n",
    "        alpha=opts[\"alpha\"],\n",
    "        batch_size=opts[\"batch_size\"],\n",
    "        learning_rate=opts[\"learning_rate\"],\n",
    "        learning_rate_init=opts[\"learning_rate_init\"],\n",
    "        power_t=opts[\"power_t\"],\n",
    "        max_iter=opts[\"max_iter\"],\n",
    "        shuffle=opts[\"shuffle\"],\n",
    "        tol=opts[\"tol\"],\n",
    "        verbose=opts[\"verbose\"],\n",
    "        warm_start=opts[\"warm_start\"],\n",
    "        momentum=opts[\"momentum\"],\n",
    "        nesterovs_momentum=opts[\"nesterovs_momentum\"],\n",
    "        early_stopping=opts[\"early_stopping\"],\n",
    "        validation_fraction=opts[\"validation_fraction\"],\n",
    "        beta_1=opts[\"beta_1\"],\n",
    "        beta_2=opts[\"beta_2\"],\n",
    "        epsilon=opts[\"epsilon\"],\n",
    "        n_iter_no_change=opts[\"n_iter_no_change\"],\n",
    "        max_fun=opts[\"max_fun\"],\n",
    "    )\n",
    "    # Train the classifier\n",
    "    classifier.fit(X_train_pca, y_train_flat)\n",
    "    # Make predictions\n",
    "    y_pred = classifier.predict(X_test_pca)\n",
    "    # Calculate metrics\n",
    "    accuracy = accuracy_score(y_true, y_pred)\n",
    "    ac_vec.append(accuracy)\n",
    "    f1 = f1_score(y_true, y_pred, average=\"weighted\", zero_division=0)\n",
    "    f1_vec.append(f1)\n",
    "    \n",
    "    # Return index\n",
    "    if accuracy >= max_acc:\n",
    "        max_acc = accuracy\n",
    "        print(max_acc)\n",
    "        best_val = v\n",
    "    \n",
    "    # Store best value\n",
    "    opts[\"random_state\"] = best_val\n",
    "'''"
   ]
  },
  {
   "cell_type": "code",
   "execution_count": null,
   "id": "54486b36-c48f-4b93-9069-1faf2c1f0374",
   "metadata": {},
   "outputs": [],
   "source": [
    "from buck.classifiers.autotune import optimize_all\n",
    "\n",
    "results = optimize_all(X_train_pca, y_train_flat, X_test_pca, y_true, cycles = 1)\n",
    "print(results)"
   ]
  },
  {
   "cell_type": "code",
   "execution_count": null,
   "id": "aa8281d0-0684-46a1-9e1d-28fa603e6cd1",
   "metadata": {},
   "outputs": [],
   "source": [
    "#from buck.classifiers.compare_models import compare_models\n",
    "#\n",
    "## Shorten parameters\n",
    "#Xtr_pca = X_train_pca\n",
    "#ytr_flat = y_train_flat\n",
    "#Xte_pca = X_test_pca\n",
    "#\n",
    "#compare_models(Xtr_pca, ytr_flat, Xte_pca, y_true, num_classes, label_mapping)"
   ]
  },
  {
   "cell_type": "code",
   "execution_count": null,
   "id": "51182f6d-437a-4c77-96c0-0156ca6a648a",
   "metadata": {},
   "outputs": [],
   "source": []
  },
  {
   "cell_type": "code",
   "execution_count": null,
   "id": "c5c450d8-7f37-4727-9223-1c3855193bdd",
   "metadata": {},
   "outputs": [],
   "source": []
  }
 ],
 "metadata": {
  "kernelspec": {
   "display_name": "BUCK Environment",
   "language": "python",
   "name": "buck-env"
  },
  "language_info": {
   "codemirror_mode": {
    "name": "ipython",
    "version": 3
   },
   "file_extension": ".py",
   "mimetype": "text/x-python",
   "name": "python",
   "nbconvert_exporter": "python",
   "pygments_lexer": "ipython3",
   "version": "3.11.9"
  }
 },
 "nbformat": 4,
 "nbformat_minor": 5
}

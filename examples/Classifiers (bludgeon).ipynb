{
 "cells": [
  {
   "cell_type": "markdown",
   "id": "e9bd270a-95d8-4330-92ef-478f908a8604",
   "metadata": {},
   "source": [
    "## Ingest images"
   ]
  },
  {
   "cell_type": "code",
   "execution_count": 1,
   "id": "86a96314-0633-40b4-b727-9ceef74d57af",
   "metadata": {},
   "outputs": [
    {
     "name": "stdout",
     "output_type": "stream",
     "text": [
      "(425, 288, 288)\n"
     ]
    }
   ],
   "source": [
    "import numpy as np\n",
    "import matplotlib.pyplot as plt\n",
    "from buck.analysis.basics import ingest_images\n",
    "\n",
    "fpath = \"..\\\\images\\\\squared\\\\*.png\"\n",
    "images,ages = ingest_images(fpath)\n",
    "print(images.shape)"
   ]
  },
  {
   "cell_type": "markdown",
   "id": "7ecdea1f-2cb5-4ede-bce3-b6a2b349a836",
   "metadata": {},
   "source": [
    "## Split datasets"
   ]
  },
  {
   "cell_type": "code",
   "execution_count": 2,
   "id": "572f3c3c-89db-4ef1-90f8-8a56e6890e15",
   "metadata": {},
   "outputs": [
    {
     "name": "stdout",
     "output_type": "stream",
     "text": [
      "(272, 288, 288, 1) (68, 288, 288, 1) (85, 288, 288, 1)\n"
     ]
    }
   ],
   "source": [
    "from buck.analysis.basics import split_data\n",
    "\n",
    "Xtr_og, ytr_og, Xval, yval, Xte, yte_onehot, ages, l_map = split_data(images, ages)"
   ]
  },
  {
   "cell_type": "markdown",
   "id": "4415e8a2-4981-46df-9980-e2f0c35bd3a3",
   "metadata": {},
   "source": [
    "## Homogenize data across classes"
   ]
  },
  {
   "cell_type": "code",
   "execution_count": 3,
   "id": "57820b7d-7f52-4ca1-9b6c-43b1db82d55d",
   "metadata": {},
   "outputs": [
    {
     "name": "stdout",
     "output_type": "stream",
     "text": [
      "  Class 0 (Age 1.5): 38 → 1725 samples\n",
      "  Class 1 (Age 2.5): 47 → 1725 samples\n",
      "  Class 2 (Age 3.5): 68 → 1725 samples\n",
      "  Class 3 (Age 4.5): 50 → 1725 samples\n",
      "  Class 4 (Age 5.5): 69 → 1725 samples\n"
     ]
    }
   ],
   "source": [
    "from buck.analysis.basics import homogenize_data\n",
    "\n",
    "augment_multiplier = 25\n",
    "X_train_pca, y_train_flat, X_test_pca, y_true, label_mapping, num_classes = homogenize_data(Xtr_og, ytr_og, Xte,yte_onehot, l_map, augment_multiplier)"
   ]
  },
  {
   "cell_type": "markdown",
   "id": "a50c2ba6-9153-4ea4-a8f6-55201f91bb7b",
   "metadata": {},
   "source": [
    "## Optimize all classifier models"
   ]
  },
  {
   "cell_type": "code",
   "execution_count": null,
   "id": "54486b36-c48f-4b93-9069-1faf2c1f0374",
   "metadata": {},
   "outputs": [
    {
     "name": "stdout",
     "output_type": "stream",
     "text": [
      "Optimizing\n",
      "...neural network\n",
      "Cycle 1 of 2\n"
     ]
    },
    {
     "name": "stderr",
     "output_type": "stream",
     "text": [
      "G:\\Dropbox\\AI Projects\\buck\\buck-env\\Lib\\site-packages\\sklearn\\neural_network\\_multilayer_perceptron.py:546: ConvergenceWarning: lbfgs failed to converge (status=1):\n",
      "STOP: TOTAL NO. OF ITERATIONS REACHED LIMIT.\n",
      "\n",
      "Increase the number of iterations (max_iter) or scale the data as shown in:\n",
      "    https://scikit-learn.org/stable/modules/preprocessing.html\n",
      "  self.n_iter_ = _check_optimize_result(\"lbfgs\", opt_res, self.max_iter)\n"
     ]
    }
   ],
   "source": [
    "from buck.classifiers.autotune import optimize_all\n",
    "\n",
    "results = optimize_all(X_train_pca, y_train_flat, X_test_pca, y_true, cycles = 2)\n",
    "print(results)"
   ]
  },
  {
   "cell_type": "code",
   "execution_count": null,
   "id": "8000ac04-d85c-4277-be92-53c41c2ff7d8",
   "metadata": {},
   "outputs": [],
   "source": []
  }
 ],
 "metadata": {
  "kernelspec": {
   "display_name": "BUCK Environment",
   "language": "python",
   "name": "buck-env"
  },
  "language_info": {
   "codemirror_mode": {
    "name": "ipython",
    "version": 3
   },
   "file_extension": ".py",
   "mimetype": "text/x-python",
   "name": "python",
   "nbconvert_exporter": "python",
   "pygments_lexer": "ipython3",
   "version": "3.11.9"
  }
 },
 "nbformat": 4,
 "nbformat_minor": 5
}

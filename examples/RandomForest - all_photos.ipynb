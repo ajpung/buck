{
 "cells": [
  {
   "cell_type": "code",
   "execution_count": 1,
   "id": "386b822b-f748-43f1-a89a-818894df4119",
   "metadata": {},
   "outputs": [
    {
     "name": "stdout",
     "output_type": "stream",
     "text": [
      "(290, 288, 288, 1) (73, 288, 288, 1) (91, 288, 288, 1)\n"
     ]
    }
   ],
   "source": [
    "import numpy as np\n",
    "import matplotlib.pyplot as plt\n",
    "import cv2\n",
    "from buck.analysis.basics import ingest_images\n",
    "\n",
    "# Your existing ingestion\n",
    "fpath = \"..\\\\images\\\\squared\\\\*.png\"\n",
    "images, ages = ingest_images(fpath)\n",
    "\n",
    "from buck.analysis.basics import split_data\n",
    "\n",
    "Xtr_og, ytr_og, Xval, yval, Xte, yte_onehot, ages, l_map = split_data(images, ages)"
   ]
  },
  {
   "cell_type": "code",
   "execution_count": null,
   "id": "b4eec27e-965b-411c-8296-27762189ada3",
   "metadata": {},
   "outputs": [
    {
     "name": "stdout",
     "output_type": "stream",
     "text": [
      "  Class 0 (Age 1.5): 41 → 2920 samples\n",
      "  Class 1 (Age 2.5): 52 → 2920 samples\n",
      "  Class 2 (Age 3.5): 68 → 2920 samples\n"
     ]
    }
   ],
   "source": [
    "from buck.analysis.basics import homogenize_data\n",
    "\n",
    "augment_multiplier = 40\n",
    "X_train_flat, y_train_flat, X_test_flat, y_true, label_mapping, num_classes = homogenize_data(Xtr_og, ytr_og, Xte,yte_onehot, l_map, augment_multiplier)"
   ]
  },
  {
   "cell_type": "code",
   "execution_count": null,
   "id": "48858061-613d-4798-84fd-074cee953c42",
   "metadata": {},
   "outputs": [],
   "source": [
    "# Random Forest\n",
    "from buck.classifiers.random_forest import (\n",
    "    _optimize_rs, _optimize_nest, _optimize_max_d, _optimize_crit, _optimize_cw, _optimize_mss, _optimize_msl, _optimize_mwfl, _optimize_mf, _optimize_mln, _optimize_mid\n",
    ")\n",
    "\n",
    "# Shorten parameters\n",
    "Xtr_pca = X_train_pca\n",
    "ytr_flat = y_train_flat\n",
    "Xte_pca = X_test_pca\n",
    "\n",
    "opts = {\n",
    "    \"n_estimators\": 100,\n",
    "    \"criterion\": \"gini\",\n",
    "    \"max_depth\": None,\n",
    "    \"min_samples_split\": 2,\n",
    "    \"min_samples_leaf\": 1,\n",
    "    \"min_weight_fraction_leaf\": 0.0,\n",
    "    \"max_features\": \"sqrt\",\n",
    "    \"max_leaf_nodes\": None,\n",
    "    \"min_impurity_decrease\": 0.0,\n",
    "    \"bootstrap\": True,\n",
    "    \"oob_score\": False,\n",
    "    \"n_jobs\": -1,\n",
    "    \"random_state\": 42,\n",
    "    \"verbose\": 0,\n",
    "    \"warm_start\": False,\n",
    "    \"class_weight\": None,\n",
    "    \"ccp_alpha\": 0.0,\n",
    "    \"max_samples\": None,\n",
    "    \"monotonic_cst\": None,\n",
    "}\n",
    "\n",
    "# Optimize hyperparameters\n",
    "ma_vec = []\n",
    "f1_vec = []\n",
    "for c in np.arange(10):\n",
    "    opts, ma, f1 = _optimize_rs(Xtr_pca, ytr_flat, Xte_pca, y_true, opts)\n",
    "    print(ma)\n",
    "    opts, ma, f1 = _optimize_nest(Xtr_pca, ytr_flat, Xte_pca, y_true, opts)\n",
    "    print(ma)\n",
    "    opts, ma, f1 = _optimize_max_d(Xtr_pca, ytr_flat, Xte_pca, y_true, opts)\n",
    "    print(ma)\n",
    "    opts, ma, f1 = _optimize_crit(Xtr_pca, ytr_flat, Xte_pca, y_true, opts)  # type: ignore\n",
    "    print(ma)\n",
    "    opts, ma, f1 = _optimize_cw(Xtr_pca, ytr_flat, Xte_pca, y_true, opts)\n",
    "    print(ma)\n",
    "    opts, ma, f1 = _optimize_mss(Xtr_pca, ytr_flat, Xte_pca, y_true, opts)\n",
    "    print(ma)\n",
    "    opts, ma, f1 = _optimize_msl(Xtr_pca, ytr_flat, Xte_pca, y_true, opts)\n",
    "    print(ma)\n",
    "    opts, ma, f1 = _optimize_mwfl(Xtr_pca, ytr_flat, Xte_pca, y_true, opts)\n",
    "    print(ma)\n",
    "    opts, ma, f1 = _optimize_mf(Xtr_pca, ytr_flat, Xte_pca, y_true, opts)\n",
    "    print(ma)\n",
    "    opts, ma, f1 = _optimize_mln(Xtr_pca, ytr_flat, Xte_pca, y_true, opts)\n",
    "    print(ma)\n",
    "    opts, ma, f1 = _optimize_mid(Xtr_pca, ytr_flat, Xte_pca, y_true, opts)\n",
    "    print(ma)\n",
    "    ma_vec.append(ma)\n",
    "    f1_vec.append(f1)\n",
    "    print(ma, f1)\n",
    "\n",
    "#Best: 0.7894736842105263\n",
    "#{'n_estimators': np.int64(127),\n",
    "# 'criterion': 'gini',\n",
    "# 'max_depth': None,\n",
    "# 'min_samples_split': np.int64(2),\n",
    "# 'min_samples_leaf': np.int64(1),\n",
    "# 'min_weight_fraction_leaf': np.float64(0.0),\n",
    "# 'max_features': 'log2',\n",
    "# 'max_leaf_nodes': None,\n",
    "# 'min_impurity_decrease': np.float64(0.0),\n",
    "# 'bootstrap': True,\n",
    "# 'oob_score': False,\n",
    "# 'n_jobs': -1,\n",
    "# 'random_state': np.int64(405),\n",
    "# 'verbose': 0,\n",
    "# 'warm_start': False,\n",
    "# 'class_weight': None,\n",
    "# 'ccp_alpha': 0.0,\n",
    "# 'max_samples': None,\n",
    "# 'monotonic_cst': None}"
   ]
  },
  {
   "cell_type": "code",
   "execution_count": null,
   "id": "4502ac84-f86f-49be-8aec-250cb172d572",
   "metadata": {},
   "outputs": [],
   "source": [
    "from buck.classifiers.autotune import optimize_all\n",
    "\n",
    "optimize_all(Xtr_pca, ytr_flat, Xte_pca, y_true, cycles=1)"
   ]
  },
  {
   "cell_type": "code",
   "execution_count": null,
   "id": "500be004-77d7-4f31-b7c9-0042af018fe3",
   "metadata": {},
   "outputs": [],
   "source": []
  }
 ],
 "metadata": {
  "kernelspec": {
   "display_name": "BUCK Environment",
   "language": "python",
   "name": "buck-env"
  },
  "language_info": {
   "codemirror_mode": {
    "name": "ipython",
    "version": 3
   },
   "file_extension": ".py",
   "mimetype": "text/x-python",
   "name": "python",
   "nbconvert_exporter": "python",
   "pygments_lexer": "ipython3",
   "version": "3.11.9"
  }
 },
 "nbformat": 4,
 "nbformat_minor": 5
}

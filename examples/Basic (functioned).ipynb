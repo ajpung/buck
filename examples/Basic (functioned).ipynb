{
 "cells": [
  {
   "cell_type": "markdown",
   "id": "e9bd270a-95d8-4330-92ef-478f908a8604",
   "metadata": {},
   "source": [
    "## Ingest images"
   ]
  },
  {
   "cell_type": "code",
   "execution_count": 1,
   "id": "86a96314-0633-40b4-b727-9ceef74d57af",
   "metadata": {},
   "outputs": [],
   "source": [
    "from buck.analysis.basics import ingest_images\n",
    "\n",
    "fpath = \"..\\\\images\\\\squared\\\\*.png\"\n",
    "images,ages = ingest_images(fpath)"
   ]
  },
  {
   "cell_type": "markdown",
   "id": "7ecdea1f-2cb5-4ede-bce3-b6a2b349a836",
   "metadata": {},
   "source": [
    "## Split datasets"
   ]
  },
  {
   "cell_type": "code",
   "execution_count": 2,
   "id": "572f3c3c-89db-4ef1-90f8-8a56e6890e15",
   "metadata": {},
   "outputs": [],
   "source": [
    "from buck.analysis.basics import split_data\n",
    "\n",
    "Xtr_og, ytr_og, Xval, yval, Xte, yte_onehot, ages, l_map = split_data(images, ages)"
   ]
  },
  {
   "cell_type": "markdown",
   "id": "4415e8a2-4981-46df-9980-e2f0c35bd3a3",
   "metadata": {},
   "source": [
    "## Homogenize data across classes"
   ]
  },
  {
   "cell_type": "code",
   "execution_count": 3,
   "id": "57820b7d-7f52-4ca1-9b6c-43b1db82d55d",
   "metadata": {},
   "outputs": [
    {
     "name": "stdout",
     "output_type": "stream",
     "text": [
      "  Class 0 (Age 1.5): 37 → 670 samples\n",
      "  Class 1 (Age 2.5): 46 → 670 samples\n",
      "  Class 2 (Age 3.5): 67 → 670 samples\n",
      "  Class 3 (Age 4.5): 50 → 670 samples\n",
      "  Class 4 (Age 5.5): 65 → 670 samples\n"
     ]
    }
   ],
   "source": [
    "from buck.analysis.basics import homogenize_data\n",
    "\n",
    "augment_multiplier = 10\n",
    "X_train_pca, y_train_flat, X_test_pca, y_true, label_mapping, num_classes = homogenize_data(Xtr_og, ytr_og, Xte,yte_onehot, l_map, augment_multiplier)"
   ]
  },
  {
   "cell_type": "markdown",
   "id": "a50c2ba6-9153-4ea4-a8f6-55201f91bb7b",
   "metadata": {},
   "source": [
    "## Comparison classifier models"
   ]
  },
  {
   "cell_type": "code",
   "execution_count": 4,
   "id": "54486b36-c48f-4b93-9069-1faf2c1f0374",
   "metadata": {},
   "outputs": [
    {
     "name": "stdout",
     "output_type": "stream",
     "text": [
      "\n",
      "Evaluating classifiers...\n",
      "==================================================\n",
      "\n",
      "CLASSIFIER COMPARISON\n",
      "==================================================\n",
      "                  Classifier  Accuracy  F1 Score  Classes Predicted          Predicted Ages\n",
      "           Gradient Boosting  0.345238  0.342748                  5 1.5, 2.5, 3.5, 4.5, 5.5\n",
      "         K-Nearest Neighbors  0.321429  0.323796                  5 1.5, 2.5, 3.5, 4.5, 5.5\n",
      "               Random Forest  0.321429  0.322869                  5 1.5, 2.5, 3.5, 4.5, 5.5\n",
      "                 Extra Trees  0.309524  0.314641                  5 1.5, 2.5, 3.5, 4.5, 5.5\n",
      "              Neural Network  0.297619  0.298606                  5 1.5, 2.5, 3.5, 4.5, 5.5\n",
      "Linear Discriminant Analysis  0.285714  0.286586                  5 1.5, 2.5, 3.5, 4.5, 5.5\n",
      "               Decision Tree  0.273810  0.259720                  5 1.5, 2.5, 3.5, 4.5, 5.5\n",
      "                    AdaBoost  0.273810  0.268812                  5 1.5, 2.5, 3.5, 4.5, 5.5\n",
      "         Logistic Regression  0.261905  0.257960                  5 1.5, 2.5, 3.5, 4.5, 5.5\n",
      "                 Naive Bayes  0.226190  0.170754                  5 1.5, 2.5, 3.5, 4.5, 5.5\n",
      "\n",
      "==================================================\n",
      "BEST CLASSIFIER\n",
      "==================================================\n",
      "Classifier: Gradient Boosting\n",
      "Accuracy: 0.3452\n",
      "F1 Score: 0.3427\n",
      "Classes Predicted: 5\n",
      "Predicted Ages: 1.5, 2.5, 3.5, 4.5, 5.5\n",
      "\n",
      "Detailed Classification Report for Gradient Boosting:\n",
      "              precision    recall  f1-score   support\n",
      "\n",
      "     Age 1.5       0.38      0.50      0.43        12\n",
      "     Age 2.5       0.21      0.20      0.21        15\n",
      "     Age 3.5       0.38      0.38      0.38        21\n",
      "     Age 4.5       0.32      0.38      0.34        16\n",
      "     Age 5.5       0.43      0.30      0.35        20\n",
      "\n",
      "    accuracy                           0.35        84\n",
      "   macro avg       0.34      0.35      0.34        84\n",
      "weighted avg       0.35      0.35      0.34        84\n",
      "\n"
     ]
    }
   ],
   "source": [
    "from buck.analysis.optimize_model import compare_models\n",
    "\n",
    "compare_models(X_train_pca, y_train_flat, X_test_pca, y_true, num_classes, label_mapping)"
   ]
  },
  {
   "cell_type": "code",
   "execution_count": null,
   "id": "49d45f8a-1f7e-4005-b364-8ea116f641bb",
   "metadata": {},
   "outputs": [],
   "source": [
    "from buck.classifiers.random_forest import optimize_random_forest\n",
    "\n",
    "accuracy = optimize_random_forest(X_train_pca,, y_train_flat, X_test_pca, y_true)\n",
    "print(accuracy)"
   ]
  },
  {
   "cell_type": "code",
   "execution_count": null,
   "id": "37e3cc4c-dd8f-49f8-bd7f-0738bdab35d7",
   "metadata": {},
   "outputs": [],
   "source": []
  }
 ],
 "metadata": {
  "kernelspec": {
   "display_name": "BUCK Environment",
   "language": "python",
   "name": "buck-env"
  },
  "language_info": {
   "codemirror_mode": {
    "name": "ipython",
    "version": 3
   },
   "file_extension": ".py",
   "mimetype": "text/x-python",
   "name": "python",
   "nbconvert_exporter": "python",
   "pygments_lexer": "ipython3",
   "version": "3.12.10"
  }
 },
 "nbformat": 4,
 "nbformat_minor": 5
}

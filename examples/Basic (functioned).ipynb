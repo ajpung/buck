{
 "cells": [
  {
   "cell_type": "markdown",
   "id": "e9bd270a-95d8-4330-92ef-478f908a8604",
   "metadata": {},
   "source": [
    "## Ingest images"
   ]
  },
  {
   "cell_type": "code",
   "execution_count": 1,
   "id": "86a96314-0633-40b4-b727-9ceef74d57af",
   "metadata": {},
   "outputs": [],
   "source": [
    "from buck.analysis.basics import ingest_images\n",
    "\n",
    "fpath = \"..\\\\images\\\\squared\\\\*.png\"\n",
    "images,ages = ingest_images(fpath)"
   ]
  },
  {
   "cell_type": "markdown",
   "id": "7ecdea1f-2cb5-4ede-bce3-b6a2b349a836",
   "metadata": {},
   "source": [
    "## Split datasets"
   ]
  },
  {
   "cell_type": "code",
   "execution_count": 2,
   "id": "572f3c3c-89db-4ef1-90f8-8a56e6890e15",
   "metadata": {},
   "outputs": [],
   "source": [
    "from buck.analysis.basics import split_data\n",
    "\n",
    "Xtr_og, ytr_og, Xval, yval, Xte, yte_onehot, ages, l_map = split_data(images, ages)"
   ]
  },
  {
   "cell_type": "markdown",
   "id": "4415e8a2-4981-46df-9980-e2f0c35bd3a3",
   "metadata": {},
   "source": [
    "## Homogenize data across classes"
   ]
  },
  {
   "cell_type": "code",
   "execution_count": 3,
   "id": "57820b7d-7f52-4ca1-9b6c-43b1db82d55d",
   "metadata": {},
   "outputs": [
    {
     "name": "stdout",
     "output_type": "stream",
     "text": [
      "  Class 0 (Age 1.5): 38 → 1725 samples\n",
      "  Class 1 (Age 2.5): 47 → 1725 samples\n",
      "  Class 2 (Age 3.5): 68 → 1725 samples\n",
      "  Class 3 (Age 4.5): 50 → 1725 samples\n",
      "  Class 4 (Age 5.5): 69 → 1725 samples\n"
     ]
    }
   ],
   "source": [
    "from buck.analysis.basics import homogenize_data\n",
    "\n",
    "augment_multiplier = 25\n",
    "X_train_pca, y_train_flat, X_test_pca, y_true, label_mapping, num_classes = homogenize_data(Xtr_og, ytr_og, Xte,yte_onehot, l_map, augment_multiplier)"
   ]
  },
  {
   "cell_type": "markdown",
   "id": "a50c2ba6-9153-4ea4-a8f6-55201f91bb7b",
   "metadata": {},
   "source": [
    "## Comparison classifier models"
   ]
  },
  {
   "cell_type": "code",
   "execution_count": 4,
   "id": "54486b36-c48f-4b93-9069-1faf2c1f0374",
   "metadata": {},
   "outputs": [],
   "source": [
    "#from buck.analysis.optimize_model import compare_models\n",
    "#\n",
    "#compare_models(X_train_pca, y_train_flat, X_test_pca, y_true, num_classes, label_mapping)"
   ]
  },
  {
   "cell_type": "markdown",
   "id": "f5627d8c-3c08-43dd-ad01-450afbb5e6b8",
   "metadata": {},
   "source": [
    "## Optimize top-performing classifier"
   ]
  },
  {
   "cell_type": "code",
   "execution_count": 5,
   "id": "49d45f8a-1f7e-4005-b364-8ea116f641bb",
   "metadata": {},
   "outputs": [
    {
     "name": "stdout",
     "output_type": "stream",
     "text": [
      "Optimizing random state...\n"
     ]
    },
    {
     "ename": "KeyError",
     "evalue": "'max_features'",
     "output_type": "error",
     "traceback": [
      "\u001b[31m---------------------------------------------------------------------------\u001b[39m",
      "\u001b[31mKeyError\u001b[39m                                  Traceback (most recent call last)",
      "\u001b[36mCell\u001b[39m\u001b[36m \u001b[39m\u001b[32mIn[5]\u001b[39m\u001b[32m, line 3\u001b[39m\n\u001b[32m      1\u001b[39m \u001b[38;5;28;01mfrom\u001b[39;00m\u001b[38;5;250m \u001b[39m\u001b[34;01mbuck\u001b[39;00m\u001b[34;01m.\u001b[39;00m\u001b[34;01mclassifiers\u001b[39;00m\u001b[34;01m.\u001b[39;00m\u001b[34;01mrandom_forest\u001b[39;00m\u001b[38;5;250m \u001b[39m\u001b[38;5;28;01mimport\u001b[39;00m optimize_random_forest\n\u001b[32m----> \u001b[39m\u001b[32m3\u001b[39m optimals, accuracy = \u001b[43moptimize_random_forest\u001b[49m\u001b[43m(\u001b[49m\u001b[43mX_train_pca\u001b[49m\u001b[43m,\u001b[49m\u001b[43m \u001b[49m\u001b[43my_train_flat\u001b[49m\u001b[43m,\u001b[49m\u001b[43m \u001b[49m\u001b[43mX_test_pca\u001b[49m\u001b[43m,\u001b[49m\u001b[43m \u001b[49m\u001b[43my_true\u001b[49m\u001b[43m)\u001b[49m\n\u001b[32m      4\u001b[39m \u001b[38;5;28mprint\u001b[39m(accuracy)\n",
      "\u001b[36mFile \u001b[39m\u001b[32mG:\\Dropbox\\AI Projects\\buck\\src\\buck\\classifiers\\random_forest.py:741\u001b[39m, in \u001b[36moptimize_random_forest\u001b[39m\u001b[34m(X_train_pca, y_train_flat, X_test_pca, y_true)\u001b[39m\n\u001b[32m    718\u001b[39m opts = {\n\u001b[32m    719\u001b[39m     \u001b[33m\"\u001b[39m\u001b[33mn_estimators\u001b[39m\u001b[33m\"\u001b[39m: \u001b[32m100\u001b[39m,\n\u001b[32m    720\u001b[39m     \u001b[33m\"\u001b[39m\u001b[33mcriterion\u001b[39m\u001b[33m\"\u001b[39m: \u001b[33m'\u001b[39m\u001b[33mgini\u001b[39m\u001b[33m'\u001b[39m,\n\u001b[32m   (...)\u001b[39m\u001b[32m    737\u001b[39m     \u001b[33m\"\u001b[39m\u001b[33mmonotonic_cst\u001b[39m\u001b[33m\"\u001b[39m: \u001b[38;5;28;01mNone\u001b[39;00m\n\u001b[32m    738\u001b[39m }\n\u001b[32m    740\u001b[39m \u001b[38;5;66;03m# Optimize hyperparameters\u001b[39;00m\n\u001b[32m--> \u001b[39m\u001b[32m741\u001b[39m opts, ma = \u001b[43m_optimize_rs\u001b[49m\u001b[43m(\u001b[49m\u001b[43mXtr_pca\u001b[49m\u001b[43m,\u001b[49m\u001b[43m \u001b[49m\u001b[43mytr_flat\u001b[49m\u001b[43m,\u001b[49m\u001b[43m \u001b[49m\u001b[43mXte_pca\u001b[49m\u001b[43m,\u001b[49m\u001b[43m \u001b[49m\u001b[43my_true\u001b[49m\u001b[43m,\u001b[49m\u001b[43m \u001b[49m\u001b[43mopts\u001b[49m\u001b[43m)\u001b[49m\n\u001b[32m    742\u001b[39m \u001b[38;5;28mprint\u001b[39m(\u001b[33m\"\u001b[39m\u001b[33mAccuracy: \u001b[39m\u001b[33m\"\u001b[39m, ma)\n\u001b[32m    743\u001b[39m opts, ma = _optimize_nest(Xtr_pca, ytr_flat, Xte_pca, y_true, opts)\n",
      "\u001b[36mFile \u001b[39m\u001b[32mG:\\Dropbox\\AI Projects\\buck\\src\\buck\\classifiers\\random_forest.py:35\u001b[39m, in \u001b[36m_optimize_rs\u001b[39m\u001b[34m(X_train_pca, y_train_flat, X_test_pca, y_true, opts)\u001b[39m\n\u001b[32m     23\u001b[39m best_val = variable_array[\u001b[32m0\u001b[39m]\n\u001b[32m     24\u001b[39m \u001b[38;5;28;01mfor\u001b[39;00m v \u001b[38;5;129;01min\u001b[39;00m variable_array:\n\u001b[32m     25\u001b[39m     \u001b[38;5;66;03m# Define classifiers to test\u001b[39;00m\n\u001b[32m     26\u001b[39m     classifier = RandomForestClassifier(\n\u001b[32m     27\u001b[39m         random_state=v,\n\u001b[32m     28\u001b[39m         n_estimators=opts[\u001b[33m\"\u001b[39m\u001b[33mn_estimators\u001b[39m\u001b[33m\"\u001b[39m],\n\u001b[32m     29\u001b[39m         max_depth=opts[\u001b[33m\"\u001b[39m\u001b[33mmax_depth\u001b[39m\u001b[33m\"\u001b[39m],\n\u001b[32m     30\u001b[39m         criterion=opts[\u001b[33m\"\u001b[39m\u001b[33mcriterion\u001b[39m\u001b[33m\"\u001b[39m],\n\u001b[32m     31\u001b[39m         class_weight=opts[\u001b[33m\"\u001b[39m\u001b[33mclass_weight\u001b[39m\u001b[33m\"\u001b[39m],\n\u001b[32m     32\u001b[39m         min_samples_split=opts[\u001b[33m\"\u001b[39m\u001b[33mmin_samples_split\u001b[39m\u001b[33m\"\u001b[39m],\n\u001b[32m     33\u001b[39m         min_samples_leaf=opts[\u001b[33m\"\u001b[39m\u001b[33mmin_samples_leaf\u001b[39m\u001b[33m\"\u001b[39m],\n\u001b[32m     34\u001b[39m         min_weight_fraction_leaf=opts[\u001b[33m\"\u001b[39m\u001b[33mmin_weight_fraction_leaf\u001b[39m\u001b[33m\"\u001b[39m],\n\u001b[32m---> \u001b[39m\u001b[32m35\u001b[39m         max_features=\u001b[43mopts\u001b[49m\u001b[43m[\u001b[49m\u001b[33;43m\"\u001b[39;49m\u001b[33;43mmax_features\u001b[39;49m\u001b[33;43m\"\u001b[39;49m\u001b[43m]\u001b[49m,\n\u001b[32m     36\u001b[39m         max_leaf_nodes=opts[\u001b[33m\"\u001b[39m\u001b[33mmax_leaf_nodes\u001b[39m\u001b[33m\"\u001b[39m],\n\u001b[32m     37\u001b[39m         min_impurity_decrease=opts[\u001b[33m\"\u001b[39m\u001b[33mmin_impurity_decrease\u001b[39m\u001b[33m\"\u001b[39m],\n\u001b[32m     38\u001b[39m         bootstrap=opts[\u001b[33m\"\u001b[39m\u001b[33mbootstrap\u001b[39m\u001b[33m\"\u001b[39m],\n\u001b[32m     39\u001b[39m         oob_score=opts[\u001b[33m\"\u001b[39m\u001b[33moob_score\u001b[39m\u001b[33m\"\u001b[39m],\n\u001b[32m     40\u001b[39m         n_jobs=opts[\u001b[33m\"\u001b[39m\u001b[33mn_jobs\u001b[39m\u001b[33m\"\u001b[39m],\n\u001b[32m     41\u001b[39m         verbose=opts[\u001b[33m\"\u001b[39m\u001b[33mverbose\u001b[39m\u001b[33m\"\u001b[39m],\n\u001b[32m     42\u001b[39m         warm_start=opts[\u001b[33m\"\u001b[39m\u001b[33mwarm_start\u001b[39m\u001b[33m\"\u001b[39m],\n\u001b[32m     43\u001b[39m         ccp_alpha=opts[\u001b[33m\"\u001b[39m\u001b[33mccp_alpha\u001b[39m\u001b[33m\"\u001b[39m],\n\u001b[32m     44\u001b[39m         max_samples=opts[\u001b[33m\"\u001b[39m\u001b[33mmax_samples\u001b[39m\u001b[33m\"\u001b[39m],\n\u001b[32m     45\u001b[39m         monotonic_cst=opts[\u001b[33m\"\u001b[39m\u001b[33mmonotonic_cst\u001b[39m\u001b[33m\"\u001b[39m],\n\u001b[32m     46\u001b[39m     )\n\u001b[32m     47\u001b[39m     \u001b[38;5;66;03m# Train the classifier\u001b[39;00m\n\u001b[32m     48\u001b[39m     classifier.fit(X_train_pca, y_train_flat)\n",
      "\u001b[31mKeyError\u001b[39m: 'max_features'"
     ]
    }
   ],
   "source": [
    "from buck.classifiers.random_forest import optimize_random_forest\n",
    "\n",
    "optimals, accuracy = optimize_random_forest(X_train_pca, y_train_flat, X_test_pca, y_true)\n",
    "print(accuracy)"
   ]
  }
 ],
 "metadata": {
  "kernelspec": {
   "display_name": "BUCK Environment",
   "language": "python",
   "name": "buck-env"
  },
  "language_info": {
   "codemirror_mode": {
    "name": "ipython",
    "version": 3
   },
   "file_extension": ".py",
   "mimetype": "text/x-python",
   "name": "python",
   "nbconvert_exporter": "python",
   "pygments_lexer": "ipython3",
   "version": "3.11.9"
  }
 },
 "nbformat": 4,
 "nbformat_minor": 5
}

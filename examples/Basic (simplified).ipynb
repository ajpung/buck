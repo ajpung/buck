{
 "cells": [
  {
   "cell_type": "markdown",
   "id": "e9bd270a-95d8-4330-92ef-478f908a8604",
   "metadata": {},
   "source": [
    "## Ingest images\n",
    "Images of each deer are roughly square, and stored in a local folder. The images are ingested via `glob` and files that do not contain year information is removed. Once ingested, resized, and stacked, the labels are extracted from each images based on their filename."
   ]
  },
  {
   "cell_type": "code",
   "execution_count": 1,
   "id": "86a96314-0633-40b4-b727-9ceef74d57af",
   "metadata": {},
   "outputs": [
    {
     "name": "stdout",
     "output_type": "stream",
     "text": [
      "241 images found\n",
      "Sample size: (241, 288, 288)\n"
     ]
    }
   ],
   "source": [
    "from glob import glob\n",
    "from buck.analysis.basics import extract_labels\n",
    "from buck.analysis.basics import ingest_resize_stack\n",
    "\n",
    "# Find/ingest files in folder; force square & b/w\n",
    "files = glob(\"..\\\\images\\\\squared\\\\*.png\")\n",
    "files = [s for s in files if \"xpx\" not in s]\n",
    "print(len(files), \"images found\")\n",
    "\n",
    "# Ingest images\n",
    "images = ingest_resize_stack(files)\n",
    "_,_,_,ages,_ = extract_labels(files)\n",
    "print('Sample size:', images.shape)"
   ]
  },
  {
   "cell_type": "markdown",
   "id": "7ecdea1f-2cb5-4ede-bce3-b6a2b349a836",
   "metadata": {},
   "source": [
    "## Split datasets\n",
    "The image stack is then split into training and test data, with a split of 80/20 -- 80% of the data resides in the training set, while the remaining 20% defines the test data. The training and test data are then normalized, and the labels for each dataset are cast to categorical values instead of their age values.\n",
    "\n",
    "The validation data is then extracted from the training dataset, again in an 80/20 split -- 80% of the previous training data remains within the training dataset, and 20% is redefined as the validation set. Each dataset (training, validation, and test) are reshaped based on their format of grayscale images."
   ]
  },
  {
   "cell_type": "code",
   "execution_count": 2,
   "id": "5cb9da76-9dd0-4571-bda9-5161e636d471",
   "metadata": {},
   "outputs": [
    {
     "name": "stdout",
     "output_type": "stream",
     "text": [
      "Merged these ages into the 'mature' (5.5+) class: [np.float64(5.5), np.float64(12.5), np.float64(6.5), np.float64(7.5), np.float64(8.5)]\n",
      "New label mapping: {np.float64(1.5): 0, np.float64(2.5): 1, np.float64(3.5): 2, np.float64(4.5): 3, np.float64(5.5): 4}\n",
      "\n",
      "Class distribution after first split:\n",
      "Label 0 (1.5): 29 samples\n",
      "Label 1 (2.5): 41 samples\n",
      "Label 2 (3.5): 44 samples\n",
      "Label 3 (4.5): 29 samples\n",
      "Label 4 (5.5): 49 samples\n",
      "\n",
      "Training set class distribution (after both splits):\n",
      "Label 0 (1.5): 23 samples\n",
      "Label 1 (2.5): 33 samples\n",
      "Label 2 (3.5): 35 samples\n",
      "Label 3 (4.5): 23 samples\n",
      "Label 4 (5.5): 39 samples\n",
      "\n",
      "Validation set class distribution:\n",
      "Label 0 (1.5): 6 samples\n",
      "Label 1 (2.5): 8 samples\n",
      "Label 2 (3.5): 9 samples\n",
      "Label 3 (4.5): 6 samples\n",
      "Label 4 (5.5): 10 samples\n"
     ]
    }
   ],
   "source": [
    "import keras\n",
    "import numpy as np\n",
    "from sklearn.model_selection import train_test_split\n",
    "\n",
    "# Create a mapping that combines 5.5+ years into a single \"mature\" class\n",
    "ages_array = np.array(ages)\n",
    "mature_ages = []\n",
    "\n",
    "for i, age in enumerate(ages_array):\n",
    "    if age >= 5.5:\n",
    "        ages_array[i] = 5.5  # Set all ages 5.5+ to 5.5\n",
    "        if age not in mature_ages:\n",
    "            mature_ages.append(age)\n",
    "\n",
    "print(f\"Merged these ages into the 'mature' (5.5+) class: {mature_ages}\")\n",
    "\n",
    "# Now create your label mapping with the modified ages\n",
    "label_mapping = {label: i for i, label in enumerate(np.unique(ages_array))}\n",
    "print(\"New label mapping:\", label_mapping)\n",
    "\n",
    "# Apply the mapping to convert labels to integers\n",
    "integer_labels = np.array([label_mapping[l] for l in ages_array])\n",
    "\n",
    "# Implement a stratified split to ensure all classes appear in train and test sets\n",
    "X_train_val, X_test, y_train_val, y_test = train_test_split(\n",
    "    images, integer_labels, \n",
    "    test_size=0.2, \n",
    "    random_state=42,\n",
    "    stratify=integer_labels  # This ensures proportional representation of classes\n",
    ")\n",
    "\n",
    "# Check the class distribution in training+validation set\n",
    "print(\"\\nClass distribution after first split:\")\n",
    "for label in np.unique(y_train_val):\n",
    "    count = np.sum(y_train_val == label)\n",
    "    print(f\"Label {label} ({list(label_mapping.keys())[list(label_mapping.values()).index(label)]}): {count} samples\")\n",
    "\n",
    "# One-hot encode labels AFTER splitting but BEFORE the next split\n",
    "num_classes = len(label_mapping)\n",
    "y_train_val_onehot = keras.utils.to_categorical(y_train_val, num_classes)\n",
    "y_test_onehot = keras.utils.to_categorical(y_test, num_classes)\n",
    "\n",
    "# Normalize and reshape images\n",
    "X_train_val = X_train_val.astype(\"float32\") / 255.0\n",
    "X_test = X_test.astype(\"float32\") / 255.0\n",
    "X_train_val = X_train_val.reshape(X_train_val.shape[0], 288, 288, 1)\n",
    "X_test = X_test.reshape(X_test.shape[0], 288, 288, 1)\n",
    "\n",
    "# Implement stratified split for validation too\n",
    "X_train_orig, X_valid, y_train_orig, y_valid = train_test_split(\n",
    "    X_train_val, \n",
    "    y_train_val_onehot, \n",
    "    test_size=0.2, \n",
    "    random_state=42,\n",
    "    stratify=np.argmax(y_train_val_onehot, axis=1)  # Stratify by class\n",
    ")\n",
    "\n",
    "# Print the class distribution to check\n",
    "print(\"\\nTraining set class distribution (after both splits):\")\n",
    "train_class_dist = np.argmax(y_train_orig, axis=1)\n",
    "for label in np.unique(train_class_dist):\n",
    "    count = np.sum(train_class_dist == label)\n",
    "    print(f\"Label {label} ({list(label_mapping.keys())[list(label_mapping.values()).index(label)]}): {count} samples\")\n",
    "\n",
    "print(\"\\nValidation set class distribution:\")\n",
    "valid_class_dist = np.argmax(y_valid, axis=1)\n",
    "for label in np.unique(valid_class_dist):\n",
    "    count = np.sum(valid_class_dist == label)\n",
    "    print(f\"Label {label} ({list(label_mapping.keys())[list(label_mapping.values()).index(label)]}): {count} samples\")"
   ]
  },
  {
   "cell_type": "code",
   "execution_count": 3,
   "id": "cc04a4f1-e9c0-41db-8d82-b115a53f4f82",
   "metadata": {},
   "outputs": [
    {
     "name": "stdout",
     "output_type": "stream",
     "text": [
      "\n",
      "Before augmentation:\n",
      "153 train samples\n",
      "49 test samples\n",
      "39 validation samples\n",
      "\n",
      "After class-balanced augmentation:\n",
      "Original training samples: 153\n",
      "Augmented training samples: 237\n",
      "Combined training samples: 390\n",
      "Augmentation multiplier: 2.549019607843137\n",
      "X_train_combined shape: (390, 288, 288, 1)\n",
      "y_train_combined shape: (390, 5)\n",
      "\n",
      "Class distribution after augmentation:\n",
      "Label 0 (1.5): 78 samples\n",
      "Label 1 (2.5): 78 samples\n",
      "Label 2 (3.5): 78 samples\n",
      "Label 3 (4.5): 78 samples\n",
      "Label 4 (5.5): 78 samples\n"
     ]
    }
   ],
   "source": [
    "from tensorflow.keras.preprocessing.image import ImageDataGenerator\n",
    "\n",
    "# Print original sizes\n",
    "print(\"\\nBefore augmentation:\")\n",
    "print(X_train_orig.shape[0], \"train samples\")\n",
    "print(X_test.shape[0], \"test samples\")\n",
    "print(X_valid.shape[0], \"validation samples\")\n",
    "\n",
    "# Setup moderate data augmentation\n",
    "datagen = ImageDataGenerator(\n",
    "    rotation_range=20,\n",
    "    width_shift_range=0.2,\n",
    "    height_shift_range=0.2,\n",
    "    zoom_range=0.2,\n",
    "    horizontal_flip=True,\n",
    "    brightness_range=[0.5, 1.5],\n",
    "    shear_range=10,\n",
    "    fill_mode='nearest'\n",
    ")\n",
    "\n",
    "# Create augmented images per class to balance the dataset\n",
    "augmented_images = []\n",
    "augmented_labels = []\n",
    "\n",
    "# Find the count of the majority class\n",
    "unique_classes = np.unique(np.argmax(y_train_orig, axis=1))\n",
    "class_counts = [np.sum(np.argmax(y_train_orig, axis=1) == c) for c in unique_classes]\n",
    "max_count = max(class_counts)\n",
    "target_per_class = max_count * 2  # Increase all classes to 2x the size of the largest class\n",
    "\n",
    "# Augment each class separately\n",
    "for class_idx in unique_classes:\n",
    "    # Get indices of samples from this class\n",
    "    class_indices = np.where(np.argmax(y_train_orig, axis=1) == class_idx)[0]\n",
    "    class_count = len(class_indices)\n",
    "    \n",
    "    # Calculate how many augmented samples to generate\n",
    "    samples_to_generate = target_per_class - class_count\n",
    "    \n",
    "    if samples_to_generate <= 0:\n",
    "        continue  # Skip if we already have enough\n",
    "    \n",
    "    # Get the class samples\n",
    "    class_images = X_train_orig[class_indices]\n",
    "    class_labels = y_train_orig[class_indices]\n",
    "    \n",
    "    # Generate augmented samples\n",
    "    aug_gen = datagen.flow(\n",
    "        class_images,\n",
    "        class_labels,\n",
    "        batch_size=class_count,\n",
    "        shuffle=True\n",
    "    )\n",
    "    \n",
    "    # Generate the required number of samples\n",
    "    batch_count = int(np.ceil(samples_to_generate / class_count))\n",
    "    aug_img_list = []\n",
    "    aug_label_list = []\n",
    "    \n",
    "    for i in range(batch_count):\n",
    "        imgs, lbls = next(aug_gen)\n",
    "        aug_img_list.append(imgs)\n",
    "        aug_label_list.append(lbls)\n",
    "    \n",
    "    # Concatenate all batches and trim excess\n",
    "    aug_images = np.concatenate(aug_img_list)[:samples_to_generate]\n",
    "    aug_labels = np.concatenate(aug_label_list)[:samples_to_generate]\n",
    "    \n",
    "    # Add to our collections\n",
    "    augmented_images.append(aug_images)\n",
    "    augmented_labels.append(aug_labels)\n",
    "\n",
    "# Combine all augmented data\n",
    "if augmented_images:  # Check if we actually generated any augmentations\n",
    "    X_aug = np.concatenate(augmented_images)\n",
    "    y_aug = np.concatenate(augmented_labels)\n",
    "    \n",
    "    # Combine with original data\n",
    "    X_train_combined = np.concatenate([X_train_orig, X_aug])\n",
    "    y_train_combined = np.concatenate([y_train_orig, y_aug])\n",
    "else:\n",
    "    X_train_combined = X_train_orig\n",
    "    y_train_combined = y_train_orig\n",
    "\n",
    "# Print new sizes after augmentation\n",
    "print(\"\\nAfter class-balanced augmentation:\")\n",
    "print(\"Original training samples:\", X_train_orig.shape[0])\n",
    "print(\"Augmented training samples:\", X_train_combined.shape[0] - X_train_orig.shape[0])\n",
    "print(\"Combined training samples:\", X_train_combined.shape[0])\n",
    "print(\"Augmentation multiplier:\", X_train_combined.shape[0] / X_train_orig.shape[0])\n",
    "print(\"X_train_combined shape:\", X_train_combined.shape)\n",
    "print(\"y_train_combined shape:\", y_train_combined.shape)\n",
    "\n",
    "# Check class distribution after augmentation\n",
    "print(\"\\nClass distribution after augmentation:\")\n",
    "aug_class_dist = np.argmax(y_train_combined, axis=1)\n",
    "for label in unique_classes:\n",
    "    count = np.sum(aug_class_dist == label)\n",
    "    print(f\"Label {label} ({list(label_mapping.keys())[list(label_mapping.values()).index(label)]}): {count} samples\")"
   ]
  },
  {
   "cell_type": "code",
   "execution_count": 4,
   "id": "b5ba806e-c95a-45ff-a8c8-96aa6d7ce10a",
   "metadata": {},
   "outputs": [
    {
     "name": "stdout",
     "output_type": "stream",
     "text": [
      "\n",
      "Trying traditional machine learning approaches better suited for very small datasets\n",
      "Reduced dimensions from 82944 to 385\n"
     ]
    }
   ],
   "source": [
    "import seaborn as sns\n",
    "import matplotlib.pyplot as plt\n",
    "\n",
    "print(\"\\nTrying traditional machine learning approaches better suited for very small datasets\")\n",
    "\n",
    "# Import necessary libraries\n",
    "from sklearn.decomposition import PCA\n",
    "from sklearn.pipeline import make_pipeline\n",
    "from sklearn.tree import DecisionTreeClassifier\n",
    "from sklearn.preprocessing import StandardScaler\n",
    "from sklearn.neighbors import KNeighborsClassifier\n",
    "from sklearn.linear_model import LogisticRegression\n",
    "from sklearn.ensemble import RandomForestClassifier, GradientBoostingClassifier\n",
    "from sklearn.metrics import confusion_matrix, accuracy_score, classification_report\n",
    "\n",
    "# Create reverse mapping to get original labels\n",
    "reverse_mapping = {i: label for label, i in label_mapping.items()}\n",
    "\n",
    "# Flatten the images for use with simpler models\n",
    "X_train_flat = X_train_combined.reshape(X_train_combined.shape[0], -1)\n",
    "X_test_flat = X_test.reshape(X_test.shape[0], -1)\n",
    "y_train_flat = np.argmax(y_train_combined, axis=1)\n",
    "y_true = np.argmax(y_test_onehot, axis=1)\n",
    "\n",
    "# Apply dimensionality reduction - critical for such high-dimensional data with few samples\n",
    "pca = PCA(n_components=min(1000, X_train_flat.shape[0] - 5))  # Fewer components than samples\n",
    "X_train_pca = pca.fit_transform(StandardScaler().fit_transform(X_train_flat))\n",
    "X_test_pca = pca.transform(StandardScaler().fit_transform(X_test_flat))\n",
    "print(f\"Reduced dimensions from {X_train_flat.shape[1]} to {X_train_pca.shape[1]}\")"
   ]
  },
  {
   "cell_type": "code",
   "execution_count": 5,
   "id": "876fd48e-60ca-4f38-a9f3-0ceca504040d",
   "metadata": {},
   "outputs": [
    {
     "name": "stdout",
     "output_type": "stream",
     "text": [
      "\n",
      "Clustering Accuracy: 0.2041\n",
      "Clustering predicts 5 different classes: {np.int64(0), np.int64(1), np.int64(2), np.int64(3), np.int64(4)}\n"
     ]
    }
   ],
   "source": [
    "# 0. Clustering\n",
    "cluster_model = KNeighborsClassifier(n_neighbors=11)\n",
    "cluster_model.fit(X_train_pca, y_train_flat)\n",
    "cluster_pred = cluster_model.predict(X_test_pca)\n",
    "cluster_accuracy = accuracy_score(y_true, cluster_pred)\n",
    "print(f\"\\nClustering Accuracy: {cluster_accuracy:.4f}\")\n",
    "print(f\"Clustering predicts {len(set(cluster_pred))} different classes: {set(cluster_pred)}\")"
   ]
  },
  {
   "cell_type": "code",
   "execution_count": 6,
   "id": "ed69139e-a972-4538-8eaf-a7b58c58b24a",
   "metadata": {},
   "outputs": [
    {
     "name": "stdout",
     "output_type": "stream",
     "text": [
      "\n",
      "Decision Tree Accuracy: 0.2041\n",
      "Decision Tree predicts 5 different classes: {np.int64(0), np.int64(1), np.int64(2), np.int64(3), np.int64(4)}\n"
     ]
    }
   ],
   "source": [
    "# 1. Decision Tree with limited depth to avoid overfitting\n",
    "tree_model = DecisionTreeClassifier(max_depth=3, class_weight='balanced', random_state=42)\n",
    "tree_model.fit(X_train_pca, y_train_flat)\n",
    "tree_pred = tree_model.predict(X_test_pca)\n",
    "tree_accuracy = accuracy_score(y_true, tree_pred)\n",
    "print(f\"\\nDecision Tree Accuracy: {tree_accuracy:.4f}\")\n",
    "print(f\"Decision Tree predicts {len(set(tree_pred))} different classes: {set(tree_pred)}\")"
   ]
  },
  {
   "cell_type": "code",
   "execution_count": 7,
   "id": "e969c20c-8f14-417c-9031-1263aa388bb7",
   "metadata": {},
   "outputs": [
    {
     "name": "stdout",
     "output_type": "stream",
     "text": [
      "\n",
      "Random Forest Accuracy: 0.1020\n",
      "Random Forest predicts 5 different classes: {np.int64(0), np.int64(1), np.int64(2), np.int64(3), np.int64(4)}\n"
     ]
    }
   ],
   "source": [
    "# 2. Random Forest - an ensemble of decision trees\n",
    "rf_model = RandomForestClassifier(n_estimators=100, max_depth=5, \n",
    "                                  class_weight='balanced', random_state=42)\n",
    "rf_model.fit(X_train_pca, y_train_flat)\n",
    "rf_pred = rf_model.predict(X_test_pca)\n",
    "rf_accuracy = accuracy_score(y_true, rf_pred)\n",
    "print(f\"\\nRandom Forest Accuracy: {rf_accuracy:.4f}\")\n",
    "print(f\"Random Forest predicts {len(set(rf_pred))} different classes: {set(rf_pred)}\")"
   ]
  },
  {
   "cell_type": "code",
   "execution_count": 8,
   "id": "cb78203d-fa93-43f0-8797-10741c3329bd",
   "metadata": {},
   "outputs": [
    {
     "name": "stdout",
     "output_type": "stream",
     "text": [
      "\n",
      "Gradient Boosting Accuracy: 0.1837\n",
      "Gradient Boosting predicts 3 different classes: {np.int64(0), np.int64(1), np.int64(4)}\n"
     ]
    }
   ],
   "source": [
    "# 3. Gradient Boosting\n",
    "gb_model = GradientBoostingClassifier(n_estimators=50, max_depth=2, \n",
    "                                      learning_rate=0.1, random_state=42)\n",
    "gb_model.fit(X_train_pca, y_train_flat)\n",
    "gb_pred = gb_model.predict(X_test_pca)\n",
    "gb_accuracy = accuracy_score(y_true, gb_pred)\n",
    "print(f\"\\nGradient Boosting Accuracy: {gb_accuracy:.4f}\")\n",
    "print(f\"Gradient Boosting predicts {len(set(gb_pred))} different classes: {set(gb_pred)}\")"
   ]
  },
  {
   "cell_type": "code",
   "execution_count": 9,
   "id": "f23cd104-d84a-4183-bd78-4d29403d2d38",
   "metadata": {},
   "outputs": [
    {
     "name": "stdout",
     "output_type": "stream",
     "text": [
      "\n",
      "Logistic Regression Accuracy: 0.3469\n",
      "Logistic Regression predicts 5 different classes: {np.int64(0), np.int64(1), np.int64(2), np.int64(3), np.int64(4)}\n"
     ]
    }
   ],
   "source": [
    "# 4. Logistic Regression with strong regularization\n",
    "logreg_model = LogisticRegression(C=0.2, class_weight='balanced', max_iter=10000)\n",
    "logreg_model.fit(X_train_pca, y_train_flat)\n",
    "logreg_pred = logreg_model.predict(X_test_pca)\n",
    "logreg_accuracy = accuracy_score(y_true, logreg_pred)\n",
    "print(f\"\\nLogistic Regression Accuracy: {logreg_accuracy:.4f}\")\n",
    "print(f\"Logistic Regression predicts {len(set(logreg_pred))} different classes: {set(logreg_pred)}\")"
   ]
  },
  {
   "cell_type": "code",
   "execution_count": 10,
   "id": "0cd3b65d-6294-4962-923e-65bb9b4fb879",
   "metadata": {},
   "outputs": [
    {
     "name": "stdout",
     "output_type": "stream",
     "text": [
      "\n",
      "Best model is Logistic Regression with accuracy 0.3469\n"
     ]
    },
    {
     "data": {
      "image/png": "[encoded data removed]",
      "text/plain": [
       "<Figure size 800x600 with 2 Axes>"
      ]
     },
     "metadata": {},
     "output_type": "display_data"
    },
    {
     "name": "stdout",
     "output_type": "stream",
     "text": [
      "\n",
      "Classification Report for Best Model:\n",
      "              precision    recall  f1-score   support\n",
      "\n",
      "     Age 1.5       0.36      0.50      0.42         8\n",
      "     Age 2.5       0.31      0.40      0.35        10\n",
      "     Age 3.5       0.33      0.27      0.30        11\n",
      "     Age 4.5       0.17      0.12      0.14         8\n",
      "     Age 5.5       0.50      0.42      0.45        12\n",
      "\n",
      "    accuracy                           0.35        49\n",
      "   macro avg       0.33      0.34      0.33        49\n",
      "weighted avg       0.35      0.35      0.34        49\n",
      "\n",
      "\n",
      "Trying a voting classifier to combine all models\n",
      "Voting Classifier Accuracy: 0.2857\n",
      "Voting Classifier predicts 5 different classes: {np.int64(0), np.int64(1), np.int64(2), np.int64(3), np.int64(4)}\n"
     ]
    }
   ],
   "source": [
    "# Find which model is making the most diverse predictions\n",
    "all_preds = np.vstack([cluster_pred, tree_pred, rf_pred, gb_pred, logreg_pred]).T\n",
    "all_models = [\"Clustering\", \"Decision Tree\", \"Random Forest\", \"Gradient Boosting\", \"Logistic Regression\"]\n",
    "\n",
    "# Show confusion matrix for the best performing model in terms of accuracy\n",
    "best_model_idx = np.argmax([cluster_accuracy, tree_accuracy, rf_accuracy, gb_accuracy, logreg_accuracy])\n",
    "best_model_name = all_models[best_model_idx]\n",
    "best_pred = all_preds[:, best_model_idx]\n",
    "\n",
    "print(f\"\\nBest model is {best_model_name} with accuracy {np.mean(best_pred == y_true):.4f}\")\n",
    "\n",
    "# Create a confusion matrix\n",
    "cm = confusion_matrix(y_true, best_pred)\n",
    "plt.figure(figsize=(8, 6))\n",
    "sns.heatmap(cm, annot=True, fmt='d', cmap='Blues',\n",
    "           xticklabels=[f\"{reverse_mapping[i]} yrs\" for i in range(num_classes)],\n",
    "           yticklabels=[f\"{reverse_mapping[i]} yrs\" for i in range(num_classes)])\n",
    "plt.xlabel('Predicted Age')\n",
    "plt.ylabel('True Age')\n",
    "plt.title(f'Confusion Matrix for {best_model_name}')\n",
    "plt.tight_layout()\n",
    "plt.show()\n",
    "\n",
    "# Print detailed classification report\n",
    "print(\"\\nClassification Report for Best Model:\")\n",
    "print(classification_report(y_true, best_pred, \n",
    "                          target_names=[f\"Age {reverse_mapping[i]}\" for i in range(num_classes)],\n",
    "                          zero_division=0))\n",
    "\n",
    "# Create a voting classifier to combine all models\n",
    "print(\"\\nTrying a voting classifier to combine all models\")\n",
    "predictions = np.zeros((len(y_true), num_classes))\n",
    "\n",
    "# Get probabilities from each model if available\n",
    "if hasattr(cluster_model, 'predict_proba'):\n",
    "    predictions += cluster_model.predict_proba(X_test_pca)\n",
    "if hasattr(tree_model, 'predict_proba'):\n",
    "    predictions += tree_model.predict_proba(X_test_pca)\n",
    "if hasattr(rf_model, 'predict_proba'):\n",
    "    predictions += rf_model.predict_proba(X_test_pca)\n",
    "if hasattr(gb_model, 'predict_proba'):\n",
    "    predictions += gb_model.predict_proba(X_test_pca)\n",
    "if hasattr(logreg_model, 'predict_proba'):\n",
    "    predictions += logreg_model.predict_proba(X_test_pca)\n",
    "\n",
    "# Get final predictions\n",
    "voting_pred = np.argmax(predictions, axis=1)\n",
    "voting_accuracy = accuracy_score(y_true, voting_pred)\n",
    "\n",
    "print(f\"Voting Classifier Accuracy: {voting_accuracy:.4f}\")\n",
    "print(f\"Voting Classifier predicts {len(set(voting_pred))} different classes: {set(voting_pred)}\")"
   ]
  },
  {
   "cell_type": "code",
   "execution_count": null,
   "id": "5d5854f3-ed97-4979-abbf-c84cf234f904",
   "metadata": {},
   "outputs": [],
   "source": []
  }
 ],
 "metadata": {
  "kernelspec": {
   "display_name": "BUCK Environment",
   "language": "python",
   "name": "buck-env"
  },
  "language_info": {
   "codemirror_mode": {
    "name": "ipython",
    "version": 3
   },
   "file_extension": ".py",
   "mimetype": "text/x-python",
   "name": "python",
   "nbconvert_exporter": "python",
   "pygments_lexer": "ipython3",
   "version": "3.12.10"
  }
 },
 "nbformat": 4,
 "nbformat_minor": 5
}

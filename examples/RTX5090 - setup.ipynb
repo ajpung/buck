{
 "cells": [
  {
   "cell_type": "code",
   "execution_count": null,
   "id": "a71f470c-4190-42dc-a26e-417e27e17726",
   "metadata": {},
   "outputs": [],
   "source": []
  }
 ],
 "metadata": {
  "kernelspec": {
   "display_name": "",
   "name": ""
  },
  "language_info": {
   "name": ""
  }
 },
 "nbformat": 4,
 "nbformat_minor": 5
}
